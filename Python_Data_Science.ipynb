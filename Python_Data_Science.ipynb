{
  "nbformat": 4,
  "nbformat_minor": 0,
  "metadata": {
    "colab": {
      "provenance": [],
      "include_colab_link": true
    },
    "kernelspec": {
      "name": "python3",
      "display_name": "Python 3"
    },
    "language_info": {
      "name": "python"
    }
  },
  "cells": [
    {
      "cell_type": "markdown",
      "metadata": {
        "id": "view-in-github",
        "colab_type": "text"
      },
      "source": [
        "<a href=\"https://colab.research.google.com/github/BlopezEspinoza070801/Amigo-Secreto/blob/main/Python_Data_Science.ipynb\" target=\"_parent\"><img src=\"https://colab.research.google.com/assets/colab-badge.svg\" alt=\"Open In Colab\"/></a>"
      ]
    },
    {
      "cell_type": "markdown",
      "source": [
        "# Python para Data Science\n",
        "\n",
        "Notebook para el curso de Python para Data Science publicado en la plataforma de [Alura Latam](https://www.aluracursos.com/)"
      ],
      "metadata": {
        "id": "lQx6Mmv0OJyT"
      }
    },
    {
      "cell_type": "markdown",
      "source": [
        "# Introducción a Python\n",
        "¡Vamos a conocer Python, nuestro ambiente de estudio, y también generaremos nuestro primer código en este lenguaje!"
      ],
      "metadata": {
        "id": "7SiB6JIpYKmY"
      }
    },
    {
      "cell_type": "markdown",
      "source": [
        "## Google Colaboratory\n",
        "\n",
        "Ya aprendimos qué es [Python](https://www.python.org/) y ahora aprenderemos a usar nuestra herramienta de ejecución [Google Colaboratory](https://colab.research.google.com/) para programar en un notebook interactivo.\n",
        "\n",
        "Vamos a probar algunas funciones de este ambiente."
      ],
      "metadata": {
        "id": "Yugfb3fCOYY9"
      }
    },
    {
      "cell_type": "markdown",
      "source": [
        " **`>>> Usa esta celda para mover <<<`**"
      ],
      "metadata": {
        "id": "2iUHQsJasJAk"
      }
    },
    {
      "cell_type": "code",
      "source": [],
      "metadata": {
        "id": "o7jrX_iKhdkU"
      },
      "execution_count": null,
      "outputs": []
    },
    {
      "cell_type": "markdown",
      "source": [
        "## ¡Hola mundo!\n",
        "\n",
        "Vamos a conocer un poco más de cerca nuestro notebook. Para ello ejecutaremos nuestro primer comando en Python: [`print()`](https://docs.python.org/3/library/functions.html#print)"
      ],
      "metadata": {
        "id": "aLSFP2V7XTfe"
      }
    },
    {
      "cell_type": "code",
      "source": [
        "print('¡Hola mundo!')"
      ],
      "metadata": {
        "colab": {
          "base_uri": "https://localhost:8080/"
        },
        "id": "ssay2Zn4exhI",
        "outputId": "82fb6409-cff8-47a0-9eef-88c320c8dffb"
      },
      "execution_count": null,
      "outputs": [
        {
          "output_type": "stream",
          "name": "stdout",
          "text": [
            "¡Hola mundo!\n"
          ]
        }
      ]
    },
    {
      "cell_type": "code",
      "source": [
        "15"
      ],
      "metadata": {
        "colab": {
          "base_uri": "https://localhost:8080/"
        },
        "id": "T1qc2bSsi1Mj",
        "outputId": "00891957-b8a2-48dd-98f0-5bb612404a0d"
      },
      "execution_count": null,
      "outputs": [
        {
          "output_type": "execute_result",
          "data": {
            "text/plain": [
              "15"
            ]
          },
          "metadata": {},
          "execution_count": 2
        }
      ]
    },
    {
      "cell_type": "code",
      "source": [
        "print('Mi nombre es Álvaro y tengo 39 años y me encanta la ciencia de datos.')"
      ],
      "metadata": {
        "colab": {
          "base_uri": "https://localhost:8080/"
        },
        "id": "qxUFEBNOi-KZ",
        "outputId": "f81c6398-4beb-44ce-9139-9924f7eaaaf6"
      },
      "execution_count": null,
      "outputs": [
        {
          "output_type": "stream",
          "name": "stdout",
          "text": [
            "Mi nombre es Álvaro y tengo 39 años y me encanta la ciencia de datos.\n"
          ]
        }
      ]
    },
    {
      "cell_type": "markdown",
      "source": [
        "# Manipulando los datos\n",
        "\n",
        "Vamos a aprender sobre las variables en Python, cómo declararlas y utilizarlas además de conocer otros comandos de este lenguaje. :D"
      ],
      "metadata": {
        "id": "iP8uWQmFYFRs"
      }
    },
    {
      "cell_type": "markdown",
      "source": [
        "## Variables\n",
        "\n",
        "En Data Science trabajamos con varios tipos de datos e informaciones, entonces es esencial saber cómo trabajar con las variables."
      ],
      "metadata": {
        "id": "sLNVmnTbag1Z"
      }
    },
    {
      "cell_type": "markdown",
      "source": [
        "Las variables en Python se crean cuando atribuimos un valor a ella.\n",
        "\n",
        "Para esto, colocamos el nombre de la variable, el signo de igual (`=`) y el valor que queremos atribuirle."
      ],
      "metadata": {
        "id": "lsCY0wahAbf6"
      }
    },
    {
      "cell_type": "code",
      "source": [
        "5"
      ],
      "metadata": {
        "id": "vsHh5buZADND",
        "colab": {
          "base_uri": "https://localhost:8080/"
        },
        "outputId": "7fa55657-aa7d-4f7d-d876-75d186f98382"
      },
      "execution_count": null,
      "outputs": [
        {
          "output_type": "execute_result",
          "data": {
            "text/plain": [
              "5"
            ]
          },
          "metadata": {},
          "execution_count": 10
        }
      ]
    },
    {
      "cell_type": "code",
      "source": [
        "id(5)"
      ],
      "metadata": {
        "id": "sivPtqSjADQV",
        "colab": {
          "base_uri": "https://localhost:8080/"
        },
        "outputId": "3532c498-9f34-48ea-9b89-4335e5fec45f"
      },
      "execution_count": null,
      "outputs": [
        {
          "output_type": "execute_result",
          "data": {
            "text/plain": [
              "11654504"
            ]
          },
          "metadata": {},
          "execution_count": 18
        }
      ]
    },
    {
      "cell_type": "code",
      "source": [
        "edad=5"
      ],
      "metadata": {
        "id": "JC8jO47wADlm"
      },
      "execution_count": null,
      "outputs": []
    },
    {
      "cell_type": "code",
      "source": [
        "print(id(edad))\n",
        "print(id(5))"
      ],
      "metadata": {
        "colab": {
          "base_uri": "https://localhost:8080/"
        },
        "id": "f_WvS5kWE2dd",
        "outputId": "3c13a5b2-2955-4be5-dcdf-f29c4cb865da"
      },
      "execution_count": null,
      "outputs": [
        {
          "output_type": "stream",
          "name": "stdout",
          "text": [
            "11654504\n",
            "11654504\n"
          ]
        }
      ]
    },
    {
      "cell_type": "code",
      "source": [
        "numerocinco=5"
      ],
      "metadata": {
        "id": "OK2BaTznFCJ6"
      },
      "execution_count": null,
      "outputs": []
    },
    {
      "cell_type": "code",
      "source": [],
      "metadata": {
        "id": "JJOnYZr6FXlf"
      },
      "execution_count": null,
      "outputs": []
    },
    {
      "cell_type": "code",
      "source": [
        "id(5)"
      ],
      "metadata": {
        "colab": {
          "base_uri": "https://localhost:8080/"
        },
        "id": "g1oakiSHFE_c",
        "outputId": "f6530c19-33e7-4027-86cc-b35aa0515c80"
      },
      "execution_count": null,
      "outputs": [
        {
          "output_type": "execute_result",
          "data": {
            "text/plain": [
              "11654504"
            ]
          },
          "metadata": {},
          "execution_count": 24
        }
      ]
    },
    {
      "cell_type": "code",
      "source": [
        "nombre=\"Gabriel\""
      ],
      "metadata": {
        "id": "8tBWpnHsFSwr"
      },
      "execution_count": null,
      "outputs": []
    },
    {
      "cell_type": "code",
      "source": [
        "id(nombre)"
      ],
      "metadata": {
        "colab": {
          "base_uri": "https://localhost:8080/"
        },
        "id": "l4TFz7BxFYQ4",
        "outputId": "a6cad213-7d5c-472a-904c-41fb7808e844"
      },
      "execution_count": null,
      "outputs": [
        {
          "output_type": "execute_result",
          "data": {
            "text/plain": [
              "135969974655120"
            ]
          },
          "metadata": {},
          "execution_count": 27
        }
      ]
    },
    {
      "cell_type": "code",
      "source": [
        "id('Gabriel')"
      ],
      "metadata": {
        "colab": {
          "base_uri": "https://localhost:8080/"
        },
        "id": "7n2aBrsBFWOZ",
        "outputId": "1c8d8c23-d4a3-4db9-d8a2-470ef521a3f8"
      },
      "execution_count": null,
      "outputs": [
        {
          "output_type": "execute_result",
          "data": {
            "text/plain": [
              "135969974655120"
            ]
          },
          "metadata": {},
          "execution_count": 26
        }
      ]
    },
    {
      "cell_type": "markdown",
      "source": [
        "Existen algunos tipos de nomes que **no** podemos definir para las variables:\n",
        "\n",
        "- **Nombres que comiencen con números**\n",
        "  - Ejemplos: `10_notas`, `2_nombre_casa`, etc.\n",
        "- **Palabras separadas por espacio**\n",
        "  - Ejemplos: `Nombre escuela`, `notas estudiantes`, etc.\n",
        "- **Nombres de funciones de Python**\n",
        "  - Ejemplos: `print`, `type`, etc."
      ],
      "metadata": {
        "id": "om2N0jHKAzwL"
      }
    },
    {
      "cell_type": "markdown",
      "source": [
        "> Las letras mayúsculas y minúsculas generarán diferentes variables. La variable `edad` es diferente de `Edad` que a su vez es diferente de `EDAD`:\n",
        "``` Python\n",
        "edad = 1\n",
        "Edad = 2\n",
        "EDAD = 3\n",
        "_edad = 4\n",
        "_edad_ = 5\n",
        "print(edad, Edad, EDAD, _edad, _edad_)\n",
        "1 2 3 4 5\n",
        "```"
      ],
      "metadata": {
        "id": "A19vY2GVMujB"
      }
    },
    {
      "cell_type": "markdown",
      "source": [
        "## Tipos de variables\n",
        "\n",
        "Cada variable contiene una clase específica con respecto al tipo de objeto al cual esta hace referencia. Estas clases serán diferentes de acuerdo con el tipo de dato que le sea atribuido a una variable.\n",
        "\n",
        "Para conocer la clase de cada elemento usamos la función [`type()`](https://docs.python.org/3/library/functions.html#type)"
      ],
      "metadata": {
        "id": "UqhzuBhBHsps"
      }
    },
    {
      "cell_type": "code",
      "source": [
        "# Hola"
      ],
      "metadata": {
        "id": "J5a9t73A_-PX"
      },
      "execution_count": null,
      "outputs": []
    },
    {
      "cell_type": "markdown",
      "source": [
        "**Hola**\n",
        "\n",
        "***Mi nombre***\n",
        "### Bryan\n",
        "* 1\n",
        "* 2\n",
        "* 3\n",
        "1. 1\n",
        "2. 2\n",
        "\n",
        "[Página](https://www.aluracursos.com/)\n"
      ],
      "metadata": {
        "id": "JU4Is0W_Gwst"
      }
    },
    {
      "cell_type": "code",
      "source": [
        "'''\n",
        "Este es un comentario de varias líneas.\n",
        "'''"
      ],
      "metadata": {
        "id": "rqmO1ew-_-So",
        "colab": {
          "base_uri": "https://localhost:8080/",
          "height": 35
        },
        "outputId": "f3d9147a-5ab4-48df-b04d-3d34e6a2d9e5"
      },
      "execution_count": null,
      "outputs": [
        {
          "output_type": "execute_result",
          "data": {
            "text/plain": [
              "'\\nEste es un comentario de varias líneas.\\n'"
            ],
            "application/vnd.google.colaboratory.intrinsic+json": {
              "type": "string"
            }
          },
          "metadata": {},
          "execution_count": 34
        }
      ]
    },
    {
      "cell_type": "code",
      "source": [],
      "metadata": {
        "id": "xkrPMkeY_-cP"
      },
      "execution_count": null,
      "outputs": []
    },
    {
      "cell_type": "markdown",
      "source": [
        "En un conjunto de datos escolares podemos tener varios tipos de informaciones. Supongamos que tenemos acceso a la ficha de datos del alumno *Penélope Camacho*, cómo transformamos este nombre en variables de Python?\n",
        "\n",
        "#### Ficha:\n",
        "\n",
        "- Nombre: Penélope Camacho\n",
        "- Edad: 11 años\n",
        "- Promedio del semestre: 9,75\n",
        "- Situación de aprobación: Verdadera (aprobado)"
      ],
      "metadata": {
        "id": "O-FxDumfWu0C"
      }
    },
    {
      "cell_type": "code",
      "source": [
        "edad='Hola chavo'"
      ],
      "metadata": {
        "id": "FabQ7jQf_8Xt"
      },
      "execution_count": null,
      "outputs": []
    },
    {
      "cell_type": "code",
      "source": [
        "type(edad)"
      ],
      "metadata": {
        "id": "IZLQnZUj_8bd",
        "colab": {
          "base_uri": "https://localhost:8080/"
        },
        "outputId": "ac84c6ca-7986-48f0-9eb7-3439586096c1"
      },
      "execution_count": null,
      "outputs": [
        {
          "output_type": "execute_result",
          "data": {
            "text/plain": [
              "str"
            ]
          },
          "metadata": {},
          "execution_count": 49
        }
      ]
    },
    {
      "cell_type": "code",
      "source": [
        "v=True"
      ],
      "metadata": {
        "id": "4HcsOkrfILU9"
      },
      "execution_count": null,
      "outputs": []
    },
    {
      "cell_type": "code",
      "source": [
        "type(v)"
      ],
      "metadata": {
        "colab": {
          "base_uri": "https://localhost:8080/"
        },
        "id": "HPVyStbdIO2G",
        "outputId": "3925e6f2-cdf5-45b3-ceed-59be9a529cb9"
      },
      "execution_count": null,
      "outputs": [
        {
          "output_type": "execute_result",
          "data": {
            "text/plain": [
              "bool"
            ]
          },
          "metadata": {},
          "execution_count": 51
        }
      ]
    },
    {
      "cell_type": "code",
      "source": [
        "nombre_estudiante='Penélope Camacho'\n",
        "edad_estudiante=11\n",
        "promedio_semestre=9.75\n",
        "aprobado=True\n",
        "print(nombre_estudiante,edad_estudiante,promedio_semestre,aprobado)\n",
        "print(type(nombre_estudiante),type(edad_estudiante),type(promedio_semestre),type(aprobado))"
      ],
      "metadata": {
        "colab": {
          "base_uri": "https://localhost:8080/"
        },
        "id": "ILXQc98zIbs6",
        "outputId": "23475e03-3946-4a7f-ac62-ef68da76e4f8"
      },
      "execution_count": null,
      "outputs": [
        {
          "output_type": "stream",
          "name": "stdout",
          "text": [
            "Penélope Camacho 11 9.75 True\n",
            "<class 'str'> <class 'int'> <class 'float'> <class 'bool'>\n"
          ]
        }
      ]
    },
    {
      "cell_type": "markdown",
      "source": [
        "## Variables numéricas\n",
        "\n",
        "Entre los tipos de datos numéricos vamos a enfocarnos en los tipos `entero` y `float`."
      ],
      "metadata": {
        "id": "KFq_8Sxf-OG0"
      }
    },
    {
      "cell_type": "markdown",
      "source": [
        "Tenemos una tabla de información sobre los diversos cargos, cantidad de personas empleadas y el salario correspondiente:\n",
        "\n",
        "|Cargo | Cantidad | Salario|\n",
        "|---|---|---|\n",
        "|Vigilante | 5 | 300 |\n",
        "|Docente | 16| 500|\n",
        "|Coordinador| 2 |600|\n",
        "\n",
        "Necesitamos trabajar con estos datos para obtener:\n",
        "\n",
        "- La cantidad total de empleados;\n",
        "- La diferencia entre el salario más bajo y más alto; y\n",
        "- El promedio ponderado de los salarios de los empleados de la escuela."
      ],
      "metadata": {
        "id": "8_HYUbkVYdQY"
      }
    },
    {
      "cell_type": "code",
      "source": [
        "c_vigilante=5\n",
        "s_vigilante=300\n",
        "c_docente=16\n",
        "s_docente=500\n",
        "c_coordinador=2\n",
        "s_coordinador=600"
      ],
      "metadata": {
        "id": "F_X-wxdm_5Ys"
      },
      "execution_count": null,
      "outputs": []
    },
    {
      "cell_type": "code",
      "source": [
        "total_empleados=c_vigilante+c_docente+c_coordinador\n",
        "print(total_empleados)"
      ],
      "metadata": {
        "id": "gKmBbhII_5b9",
        "colab": {
          "base_uri": "https://localhost:8080/"
        },
        "outputId": "f2192f04-2d7a-4c77-be16-b3f235c3c810"
      },
      "execution_count": null,
      "outputs": [
        {
          "output_type": "stream",
          "name": "stdout",
          "text": [
            "23\n"
          ]
        }
      ]
    },
    {
      "cell_type": "code",
      "source": [
        "max_salario=max(s_vigilante,s_docente,s_coordinador)\n",
        "min_salario=min(s_vigilante,s_docente,s_coordinador)\n",
        "print(max_salario-min_salario)"
      ],
      "metadata": {
        "id": "fIugsxNy_53j",
        "colab": {
          "base_uri": "https://localhost:8080/"
        },
        "outputId": "938d8164-0730-431a-8962-488963c301c1"
      },
      "execution_count": null,
      "outputs": [
        {
          "output_type": "stream",
          "name": "stdout",
          "text": [
            "300\n"
          ]
        }
      ]
    },
    {
      "cell_type": "code",
      "source": [
        "promedio_salarios=(c_vigilante*s_vigilante+c_docente*s_docente+c_coordinador*s_coordinador)/total_empleados"
      ],
      "metadata": {
        "id": "fomt0EYxKbxY"
      },
      "execution_count": null,
      "outputs": []
    },
    {
      "cell_type": "code",
      "source": [
        "print(promedio_salarios)"
      ],
      "metadata": {
        "colab": {
          "base_uri": "https://localhost:8080/"
        },
        "id": "YXaD4RLCKuXr",
        "outputId": "af9cbc3c-8e1f-46c7-d689-68fb6b7a2091"
      },
      "execution_count": null,
      "outputs": [
        {
          "output_type": "stream",
          "name": "stdout",
          "text": [
            "465.2173913043478\n"
          ]
        }
      ]
    },
    {
      "cell_type": "markdown",
      "source": [
        "## Strings"
      ],
      "metadata": {
        "id": "yQy7b0ZWoD-P"
      }
    },
    {
      "cell_type": "markdown",
      "source": [
        "Strings hace referencia a un conjunto de caracteres formando un texto.\n",
        "\n",
        "Podemos crear Strings cuando atribuimos un dato a una variable entre comillas sencillas (`'`) o comillas dobles (`\"`)."
      ],
      "metadata": {
        "id": "vlo2-DXusv3s"
      }
    },
    {
      "cell_type": "code",
      "source": [
        "t='Alura'\n",
        "type(t)"
      ],
      "metadata": {
        "id": "ityEWqvh_2wK",
        "colab": {
          "base_uri": "https://localhost:8080/"
        },
        "outputId": "03afc920-83c9-4ed9-c89e-e6ce57f56fe8"
      },
      "execution_count": null,
      "outputs": [
        {
          "output_type": "execute_result",
          "data": {
            "text/plain": [
              "str"
            ]
          },
          "metadata": {},
          "execution_count": 63
        }
      ]
    },
    {
      "cell_type": "markdown",
      "source": [
        "Las variables textuales son objetos que poseen métodos que nos ayudan a formatear strings. Los métodos los podemos ejecutar al definir un objeto de acuerdo con la siguiente estructura:\n",
        "\n",
        "```\n",
        "objeto.metodo()\n",
        "```\n",
        "\n",
        "Existen métodos que no necesitan los `()`, siempre es una buena práctica verificar la documentación para cada caso."
      ],
      "metadata": {
        "id": "2e9UD_CCxqz_"
      }
    },
    {
      "cell_type": "markdown",
      "source": [
        "---\n",
        "**Situación:**\n",
        "\n",
        "Recibimos una variable con el nombre de una profesora de la escuela para añadirla a los registros. Sin embargo, necesitamos darle un tratamiento a este texto antes de insertarlo al sistema."
      ],
      "metadata": {
        "id": "p6aPmMGP4tf9"
      }
    },
    {
      "cell_type": "code",
      "source": [
        "texto = '  Micaela de los Sanyos '\n",
        "id(texto)"
      ],
      "metadata": {
        "id": "icDWtYTjBO0n",
        "colab": {
          "base_uri": "https://localhost:8080/"
        },
        "outputId": "8965e196-e286-4e01-a58f-5f945fc3f9a5"
      },
      "execution_count": null,
      "outputs": [
        {
          "output_type": "execute_result",
          "data": {
            "text/plain": [
              "135969412107760"
            ]
          },
          "metadata": {},
          "execution_count": 66
        }
      ]
    },
    {
      "cell_type": "code",
      "source": [],
      "metadata": {
        "id": "paq3orCoLp7W"
      },
      "execution_count": null,
      "outputs": []
    },
    {
      "cell_type": "markdown",
      "source": [
        "El objetivo final es que el nombre aparezca de la siguiente forma:\n",
        "\n",
        "```\n",
        "'MICAELA DE LOS SANTOS'\n",
        "```"
      ],
      "metadata": {
        "id": "Dg2ZXSZOGzjC"
      }
    },
    {
      "cell_type": "markdown",
      "source": [
        "### [`str.upper()` ](https://docs.python.org/3/library/stdtypes.html#str.upper)\n",
        "Convierte una string a mayúsculas."
      ],
      "metadata": {
        "id": "iVTAD8q702eN"
      }
    },
    {
      "cell_type": "code",
      "source": [
        "texto.upper()"
      ],
      "metadata": {
        "id": "wMVshJrY_ZXh",
        "colab": {
          "base_uri": "https://localhost:8080/",
          "height": 35
        },
        "outputId": "fb7d0a9c-3e2a-4b50-e71e-961faef1bc46"
      },
      "execution_count": null,
      "outputs": [
        {
          "output_type": "execute_result",
          "data": {
            "text/plain": [
              "'  MICAELA DE LOS SANYOS '"
            ],
            "application/vnd.google.colaboratory.intrinsic+json": {
              "type": "string"
            }
          },
          "metadata": {},
          "execution_count": 68
        }
      ]
    },
    {
      "cell_type": "markdown",
      "source": [
        "### [`str.lower()`](https://docs.python.org/3/library/stdtypes.html#str.lower)\n",
        "Convierte una string a minúsculas."
      ],
      "metadata": {
        "id": "hbDSBtMV1TpG"
      }
    },
    {
      "cell_type": "code",
      "source": [
        "texto.lower()"
      ],
      "metadata": {
        "id": "px3yEeNH_YK4",
        "colab": {
          "base_uri": "https://localhost:8080/",
          "height": 35
        },
        "outputId": "b4d336a0-580b-42ac-8ef2-9ad5c6e1e3fa"
      },
      "execution_count": null,
      "outputs": [
        {
          "output_type": "execute_result",
          "data": {
            "text/plain": [
              "'  micaela de los sanyos '"
            ],
            "application/vnd.google.colaboratory.intrinsic+json": {
              "type": "string"
            }
          },
          "metadata": {},
          "execution_count": 69
        }
      ]
    },
    {
      "cell_type": "markdown",
      "source": [
        "### [`str.strip()`](https://docs.python.org/3/library/stdtypes.html#str.strip)\n",
        "Elimina los espacios en blanco al inicio y al final de una string."
      ],
      "metadata": {
        "id": "kz47eWM11gii"
      }
    },
    {
      "cell_type": "code",
      "source": [
        "texto.strip()"
      ],
      "metadata": {
        "id": "76dLgNa4_XAe",
        "colab": {
          "base_uri": "https://localhost:8080/",
          "height": 35
        },
        "outputId": "9f438d63-795d-4658-91db-fff0f055a8d0"
      },
      "execution_count": null,
      "outputs": [
        {
          "output_type": "execute_result",
          "data": {
            "text/plain": [
              "'Micaela de los Sanyos'"
            ],
            "application/vnd.google.colaboratory.intrinsic+json": {
              "type": "string"
            }
          },
          "metadata": {},
          "execution_count": 70
        }
      ]
    },
    {
      "cell_type": "markdown",
      "source": [
        "### [`str.replace(antiguo, nuevo)`](https://docs.python.org/3/library/stdtypes.html#str.replace)\n",
        "\n",
        "Sustituye todas las ocurrencias del texto \"antiguo\" en la string por el  \"nuevo\"."
      ],
      "metadata": {
        "id": "m6notiyS1SCV"
      }
    },
    {
      "cell_type": "code",
      "source": [
        "texto.replace('y','t')\n",
        "texto"
      ],
      "metadata": {
        "id": "PNXAixtE_V6R",
        "colab": {
          "base_uri": "https://localhost:8080/",
          "height": 35
        },
        "outputId": "6ec47e24-bc75-442c-cd66-6eeb81326e21"
      },
      "execution_count": null,
      "outputs": [
        {
          "output_type": "execute_result",
          "data": {
            "text/plain": [
              "'  Micaela de los Sanyos '"
            ],
            "application/vnd.google.colaboratory.intrinsic+json": {
              "type": "string"
            }
          },
          "metadata": {},
          "execution_count": 72
        }
      ]
    },
    {
      "cell_type": "markdown",
      "source": [
        "### Observaciones\n",
        "\n",
        "1. Los métodos devuelven una **tranformación**, no son ejecutados directamente sobre la variable donde está almacenado el texto.\n",
        "\n",
        "2. Adicionalmente, podemos acumular la ejecución de los métodos."
      ],
      "metadata": {
        "id": "zukvEjhG2Rcn"
      }
    },
    {
      "cell_type": "code",
      "source": [
        "nuevo_texto=texto.strip().replace('y','t').upper()\n",
        "print(texto)\n",
        "print(nuevo_texto)\n",
        "print(id(texto),id(nuevo_texto))"
      ],
      "metadata": {
        "id": "JjkBRklr_T5n",
        "colab": {
          "base_uri": "https://localhost:8080/"
        },
        "outputId": "395f4a12-99d0-4526-80f2-bb96e7a01618"
      },
      "execution_count": null,
      "outputs": [
        {
          "output_type": "stream",
          "name": "stdout",
          "text": [
            "  Micaela de los Sanyos \n",
            "MICAELA DE LOS SANTOS\n",
            "135969412107760 135969413225776\n"
          ]
        }
      ]
    },
    {
      "cell_type": "markdown",
      "source": [
        "Para que la transformación se pueda ejecutar debemos atribuir la salida de las transformaciones a las variables"
      ],
      "metadata": {
        "id": "1KbwfVut2h6I"
      }
    },
    {
      "cell_type": "code",
      "source": [
        "numero1=4\n",
        "numero2=3\n",
        "numero1/numero2\n",
        "numero1**numero2\n",
        "numero1%numero2\n",
        "numero1//numero2"
      ],
      "metadata": {
        "id": "ocPP-Jaj_SJI",
        "colab": {
          "base_uri": "https://localhost:8080/"
        },
        "outputId": "a18e68a6-aa07-4a15-ba3d-dc9e36d841f3"
      },
      "execution_count": null,
      "outputs": [
        {
          "output_type": "execute_result",
          "data": {
            "text/plain": [
              "1"
            ]
          },
          "metadata": {},
          "execution_count": 80
        }
      ]
    },
    {
      "cell_type": "code",
      "source": [],
      "metadata": {
        "id": "m1RvLGZZ_SP3"
      },
      "execution_count": null,
      "outputs": []
    },
    {
      "cell_type": "markdown",
      "source": [
        "## Capturando datos\n",
        "\n",
        "En algunas aplicaciones necesitamos capturar los valores del usuario de nuestro proyecto. En python, logramos capturar los datos del usuario a través del comando [`input()`](https://docs.python.org/3/library/functions.html#input).\n",
        "\n",
        "Para ejecutar la captura debemos atribuir el resultado de esta función a una variable."
      ],
      "metadata": {
        "id": "0h9Fh5G9kHCa"
      }
    },
    {
      "cell_type": "code",
      "source": [
        "nombre=input('Escribe tu nomnre')"
      ],
      "metadata": {
        "id": "zbH_9i3q_PdY",
        "colab": {
          "base_uri": "https://localhost:8080/"
        },
        "outputId": "747db862-934e-49b4-acb1-675671db598c"
      },
      "execution_count": null,
      "outputs": [
        {
          "name": "stdout",
          "output_type": "stream",
          "text": [
            "Escribe tu nomnreBryan\n"
          ]
        }
      ]
    },
    {
      "cell_type": "code",
      "source": [
        "type(nombre)"
      ],
      "metadata": {
        "id": "JZy1Q9Tl_PgL",
        "colab": {
          "base_uri": "https://localhost:8080/"
        },
        "outputId": "e35fc9c5-d6c5-4b14-88e9-9d2a8f62c543"
      },
      "execution_count": null,
      "outputs": [
        {
          "output_type": "execute_result",
          "data": {
            "text/plain": [
              "str"
            ]
          },
          "metadata": {},
          "execution_count": 83
        }
      ]
    },
    {
      "cell_type": "markdown",
      "source": [
        "La salida de este comando siempre será una *string*. Esto quiere decir que aunque capturemos un valor de variable numérica, este será de tipo string.\n",
        "\n",
        "Entonces, será necesario **convertir el resultado cuando no se desea utilizar el valor como tipo string**."
      ],
      "metadata": {
        "id": "7z7hcLCk_aCY"
      }
    },
    {
      "cell_type": "markdown",
      "source": [
        "Existen funciones para la conversión de valores:\n",
        "\n",
        "- Enteros: [`int(dato_para_conversion)`](https://docs.python.org/3/library/functions.html#int)\n",
        "- Coma flotante: [`float(dato_para_conversion)`](https://docs.python.org/3/library/functions.html#float)\n",
        "- String: [`str(dato_para_conversion)`](https://docs.python.org/3/library/functions.html#func-str)\n",
        "- Booleano: [`bool(dato_para_conversion)`](https://docs.python.org/3/library/functions.html#bool)"
      ],
      "metadata": {
        "id": "TOlegATj1Jfp"
      }
    },
    {
      "cell_type": "code",
      "source": [
        "aNo_admision=int(input('Digita el año de admisión'))"
      ],
      "metadata": {
        "id": "M2ueeH6l_NMe",
        "colab": {
          "base_uri": "https://localhost:8080/"
        },
        "outputId": "78f33a14-d41a-48c8-fb86-8fe2bb82234e"
      },
      "execution_count": null,
      "outputs": [
        {
          "name": "stdout",
          "output_type": "stream",
          "text": [
            "Digita el año de admisión2023\n"
          ]
        }
      ]
    },
    {
      "cell_type": "code",
      "source": [
        "type(aNo_admision)\n"
      ],
      "metadata": {
        "id": "xfWwuViK_NUn",
        "colab": {
          "base_uri": "https://localhost:8080/"
        },
        "outputId": "0d83ad10-33b4-4747-83de-8017fcd8ce40"
      },
      "execution_count": null,
      "outputs": [
        {
          "output_type": "execute_result",
          "data": {
            "text/plain": [
              "int"
            ]
          },
          "metadata": {},
          "execution_count": 96
        }
      ]
    },
    {
      "cell_type": "code",
      "source": [
        "año_salida=float(input('Digita el año de salida'))"
      ],
      "metadata": {
        "id": "K6W_3rszPvcW",
        "outputId": "f2d12c34-aa61-4501-aabd-a28f68bc7c26",
        "colab": {
          "base_uri": "https://localhost:8080/"
        }
      },
      "execution_count": null,
      "outputs": [
        {
          "name": "stdout",
          "output_type": "stream",
          "text": [
            "Digita el año de salida2024\n"
          ]
        }
      ]
    },
    {
      "cell_type": "code",
      "source": [
        "type(año_salida)"
      ],
      "metadata": {
        "id": "uFCHDyew_NZm",
        "colab": {
          "base_uri": "https://localhost:8080/"
        },
        "outputId": "73cb0aaf-b7ad-4dca-dbd5-1f0f50a4d121"
      },
      "execution_count": null,
      "outputs": [
        {
          "output_type": "execute_result",
          "data": {
            "text/plain": [
              "float"
            ]
          },
          "metadata": {},
          "execution_count": 101
        }
      ]
    },
    {
      "cell_type": "code",
      "source": [
        "aNo_admision+año_salida\n",
        "type(aNo_admision+año_salida)"
      ],
      "metadata": {
        "id": "O-SsBZbfP5dM",
        "outputId": "1fedf0a1-1600-462f-adbe-b70d4f6c7fa3",
        "colab": {
          "base_uri": "https://localhost:8080/"
        }
      },
      "execution_count": null,
      "outputs": [
        {
          "output_type": "execute_result",
          "data": {
            "text/plain": [
              "float"
            ]
          },
          "metadata": {},
          "execution_count": 103
        }
      ]
    },
    {
      "cell_type": "markdown",
      "source": [
        "Trataremos de representar mejor ahora el resultado de la transformación que obtuvimos. Nosotros podemos formatear y presentar nuestro resultado mezclando strings con valores no textuales.\n",
        "\n",
        "Para ello utilizamos la estructura de formatación `f` con strings."
      ],
      "metadata": {
        "id": "yNI2-XTbB3aS"
      }
    },
    {
      "cell_type": "markdown",
      "source": [],
      "metadata": {
        "id": "aMCnL62TRRtC"
      }
    },
    {
      "cell_type": "markdown",
      "source": [],
      "metadata": {
        "id": "_e0XvkvATck5"
      }
    },
    {
      "cell_type": "code",
      "source": [
        "print(f'El año de admision fue {aNo_admision}\\tLa nota de admision fue : ')"
      ],
      "metadata": {
        "id": "keJjA5N9_K5i",
        "colab": {
          "base_uri": "https://localhost:8080/"
        },
        "outputId": "32c7f0bc-f634-4ebf-9ab0-4c9580d24b0e"
      },
      "execution_count": null,
      "outputs": [
        {
          "output_type": "stream",
          "name": "stdout",
          "text": [
            "El año de admision fue 2023\tLa nota de admision fue : \n"
          ]
        }
      ]
    },
    {
      "cell_type": "code",
      "source": [
        "nombre=input(\"Introduce tu nombre: \")\n",
        "edad=input(\"Introduce tu edad :\")\n",
        "altura=input(\"Introduce tu altura en metros: \")\n",
        "print(f'Hola {nombre}, tienes {edad} años y mides {altura} metros')"
      ],
      "metadata": {
        "id": "_Wn25N0kTxSc",
        "outputId": "6ea2d77c-d99e-45a9-bb1c-5a129718c610",
        "colab": {
          "base_uri": "https://localhost:8080/"
        }
      },
      "execution_count": null,
      "outputs": [
        {
          "output_type": "stream",
          "name": "stdout",
          "text": [
            "Introduce tu nombre: Bryan\n",
            "Introduce tu edad :24\n",
            "Introduce tu altura en metros: 1.72\n",
            "Hola Bryan, tienes 24 años y mides 1.72 metros\n"
          ]
        }
      ]
    },
    {
      "cell_type": "code",
      "source": [
        "a=int(input(\"Introduzca número1: \"))\n",
        "b=int(input(\"Introduza número2: \"))\n",
        "c=int(input(\"Introduza número3: \"))\n",
        "promedio=(a+b+c)/3\n",
        "print(f'El promedio es: {promedio}')"
      ],
      "metadata": {
        "id": "TP4aSctgT-0D",
        "outputId": "2a862b6d-8ddb-47bf-8ead-c350db3658c8",
        "colab": {
          "base_uri": "https://localhost:8080/"
        }
      },
      "execution_count": null,
      "outputs": [
        {
          "output_type": "stream",
          "name": "stdout",
          "text": [
            "Introduzca número1: 40\n",
            "Introduza número2: 10\n",
            "Introduza número3: 30\n",
            "El promedio es: 26.666666666666668\n"
          ]
        }
      ]
    },
    {
      "cell_type": "code",
      "source": [],
      "metadata": {
        "id": "oih_Rss7W5xe"
      },
      "execution_count": null,
      "outputs": []
    },
    {
      "cell_type": "code",
      "source": [
        "suma=(5*1)+(12*2)+(20*3)+(15*4)/(1+2+3+4)\n",
        "print(suma)"
      ],
      "metadata": {
        "id": "SddcCeMQWndH",
        "outputId": "04cb0a4d-e376-4d5a-d6c6-2d0e4ec779ff",
        "colab": {
          "base_uri": "https://localhost:8080/"
        }
      },
      "execution_count": null,
      "outputs": [
        {
          "output_type": "stream",
          "name": "stdout",
          "text": [
            "95.0\n"
          ]
        }
      ]
    },
    {
      "cell_type": "code",
      "source": [
        "frase=input('Por favor introducir una frase: ')\n",
        "print(frase.replace(\"s\",\"S\"))\n",
        "print(frase)\n"
      ],
      "metadata": {
        "id": "ZO24qNsuXKFT",
        "outputId": "709f3474-1048-44ff-91fd-d27890a50c6b",
        "colab": {
          "base_uri": "https://localhost:8080/"
        }
      },
      "execution_count": null,
      "outputs": [
        {
          "output_type": "stream",
          "name": "stdout",
          "text": [
            "Por favor introducir una frase: SSSSSsssssssss\n",
            "SSSSSSSSSSSSSS\n",
            "SSSSSsssssssss\n"
          ]
        }
      ]
    },
    {
      "cell_type": "markdown",
      "source": [
        "# Estructuras condicionales"
      ],
      "metadata": {
        "id": "NwRaiHHHhhyl"
      }
    },
    {
      "cell_type": "code",
      "source": [
        "# Nota de aprobacion entre 7 y 10.\n",
        "# Nota de reprobación es menor a 7\n",
        "\n",
        "nota=float(input(\"Inserte nota de alumno \\nNota:\"))\n",
        "if nota>=7:\n",
        " print(\"Aprobado\")\n",
        "elif 7> nota >=5:\n",
        "  print(\"Desaprobado\")\n",
        "else:\n",
        "  print(\"Reprobado\")"
      ],
      "metadata": {
        "id": "_cWRmDiE-m4p",
        "outputId": "70602ba6-4ed5-4ee5-9d08-552691a46f6f",
        "colab": {
          "base_uri": "https://localhost:8080/"
        }
      },
      "execution_count": null,
      "outputs": [
        {
          "output_type": "stream",
          "name": "stdout",
          "text": [
            "Inserte nota de alumno \n",
            "Nota:8\n",
            "Aprobado\n"
          ]
        }
      ]
    },
    {
      "cell_type": "code",
      "source": [],
      "metadata": {
        "id": "cAMfFpZIvh2l"
      },
      "execution_count": null,
      "outputs": []
    },
    {
      "cell_type": "code",
      "source": [],
      "metadata": {
        "id": "R19QMKDuvhri"
      },
      "execution_count": null,
      "outputs": []
    },
    {
      "cell_type": "markdown",
      "source": [
        "## `IF` y `ELSE`\n",
        "\n",
        "Los comandos `if` y `else` son dos estructuras condicionales. El comando `if` ejecutará el bloque de comandos en caso de que la condición citada sea  **verdadera**. El comando `else` ejecutará el bloque de comandos en el caso de que la condicional de `if` sea **falsa**."
      ],
      "metadata": {
        "id": "qXZqg9aYEhAh"
      }
    },
    {
      "cell_type": "markdown",
      "source": [
        "El comando `if` es una palabra clave en Python que significa \"si\". Este se emplea para conformar la estructura condicional, que te permite verificar si una determinada condición es verdadera o falsa e, inmediatamente después, ejecute un bloque de código específico dependiendo del resultado de la verificación. La sintaxis para usar el comando `if` es:\n",
        "\n",
        "\n",
        "\n",
        "```\n",
        "if condicion:\n",
        "    # Realiza algo\n",
        "```\n",
        "\n"
      ],
      "metadata": {
        "id": "EIhlqHXd2Gil"
      }
    },
    {
      "cell_type": "code",
      "source": [],
      "metadata": {
        "id": "S2S6XAFz-czM"
      },
      "execution_count": null,
      "outputs": []
    },
    {
      "cell_type": "code",
      "source": [],
      "metadata": {
        "id": "YHkwMMyY-c1r"
      },
      "execution_count": null,
      "outputs": []
    },
    {
      "cell_type": "markdown",
      "source": [
        "Ya el comando `else` en Python se usa en junción con la palabra clave `if` para formar una estructura condicional. la sintaxis para usar el `else` es:\n",
        "\n",
        "```\n",
        "if condicion:\n",
        "  # codigo en caso de que sea verdad\n",
        "else:\n",
        "  # codigo en caso de que sea falso\n",
        "```\n",
        "\n",
        "el comando `else` se ejecuta cuando la condición verificada por el `if` es evaluada como `False`."
      ],
      "metadata": {
        "id": "27RW2v_sIKct"
      }
    },
    {
      "cell_type": "code",
      "source": [],
      "metadata": {
        "id": "ZTfNJd_f-aOq"
      },
      "execution_count": null,
      "outputs": []
    },
    {
      "cell_type": "code",
      "source": [],
      "metadata": {
        "id": "LPOb5MkV-btq"
      },
      "execution_count": null,
      "outputs": []
    },
    {
      "cell_type": "markdown",
      "source": [
        "---\n",
        "**Situación:**\n",
        "\n",
        "Recibiremos el promedio de la nota de los estudiantes y necesitamos de un algoritmo que ejecute el análisis y determine si el estudiante fue **Aprobado** o **Reprobado**, mostrando un mensaje del resultado. Para ser aprobado, el promedio necesita ser igual o superior a 7.0."
      ],
      "metadata": {
        "id": "BqORg85XX-Nl"
      }
    },
    {
      "cell_type": "code",
      "source": [],
      "metadata": {
        "id": "UukCN4AQ-YYW"
      },
      "execution_count": null,
      "outputs": []
    },
    {
      "cell_type": "code",
      "source": [],
      "metadata": {
        "id": "X0o8FW1H-YkA"
      },
      "execution_count": null,
      "outputs": []
    },
    {
      "cell_type": "markdown",
      "source": [
        "Ahora, nuestra institución educativa estableció que las personas que tengan el promedio entre 5.0 y 7.0 pueden participar del curso de **Recuperación** durante las vacaciones para lograr aprobar.\n",
        "\n",
        "Entonces podemos apoyarnos en un conjunto de `if`s para poder estructurar esta nueva condición."
      ],
      "metadata": {
        "id": "bD9O17HB6LUo"
      }
    },
    {
      "cell_type": "code",
      "source": [],
      "metadata": {
        "id": "G9cJ5O9--W52"
      },
      "execution_count": null,
      "outputs": []
    },
    {
      "cell_type": "code",
      "source": [],
      "metadata": {
        "id": "iU-pjoJt-W89"
      },
      "execution_count": null,
      "outputs": []
    },
    {
      "cell_type": "markdown",
      "source": [
        "Observa que en casos con 3 situaciones como este necesitamos definir bien nuestras condiciones. Pues, si realizamos una condición con `else` al final, este irá a considerar solamente la condición `if` inmediatamente anterior para generar la salida en caso de que el resultado de su operación lógica sea **falso** dando como resultado, dos o más ejecuciones.\n",
        "\n",
        "Por ejemplo:"
      ],
      "metadata": {
        "id": "D5e2mByjvycO"
      }
    },
    {
      "cell_type": "code",
      "source": [],
      "metadata": {
        "id": "C21JmOuK-VU8"
      },
      "execution_count": null,
      "outputs": []
    },
    {
      "cell_type": "code",
      "source": [],
      "metadata": {
        "id": "bHiVgnPs-Vlv"
      },
      "execution_count": null,
      "outputs": []
    },
    {
      "cell_type": "markdown",
      "source": [
        "## `ELIF`\n",
        "\n",
        "El comando `elif` es una palabra clave en Python que significa \"si no, si\" y lo podemos considerar una *contracción* entre `else` e `if`. Se utiliza en conjunto con la palabra clave `if` para formar una estructura condicional en cadena."
      ],
      "metadata": {
        "id": "04T5g-7h4zWx"
      }
    },
    {
      "cell_type": "markdown",
      "source": [
        "la sintaxis para utilizar el comando `elif` es:\n",
        "\n",
        "```\n",
        "if condicion1:\n",
        "    # Realiza algo\n",
        "elif condicion2:\n",
        "    # Realiza otra cosa\n",
        "elif condicion3:\n",
        "    # Realiza otra cosa\n",
        "else:\n",
        "    # Realiza algo diferente\n",
        "```\n",
        "\n",
        "El comando `elif` permite que puedas verificar varias condiciones en cadena, economizando espacio en tu código. Si la primera condición se evalúa como `False`, el interpretador de Python evaluará la próxima condición con el `elif`. Ello continuará hasta que una condición sea evaluada como `True` o hasta que el `else` sea alcazado. Si ninguna de las condiciones es evaluada como `True`, la ejecución del código del comando `else` será iniciada."
      ],
      "metadata": {
        "id": "rNBHr5mm1Lm6"
      }
    },
    {
      "cell_type": "markdown",
      "source": [
        "Vamos a emplear el mismo caso anterior:"
      ],
      "metadata": {
        "id": "MVoykFbB4bd4"
      }
    },
    {
      "cell_type": "code",
      "source": [],
      "metadata": {
        "id": "QFamB78s-TW_"
      },
      "execution_count": null,
      "outputs": []
    },
    {
      "cell_type": "code",
      "source": [],
      "metadata": {
        "id": "nuScbnHF-TfK"
      },
      "execution_count": null,
      "outputs": []
    },
    {
      "cell_type": "markdown",
      "source": [
        "## Operadores\n",
        "\n",
        "Durante la construcción de comandos a veces necesitamos de una elaboración mayor de la expresión condicional, necesitando que algunos operadores lógicos se encuentren integrados."
      ],
      "metadata": {
        "id": "Tf1wSOem6iwZ"
      }
    },
    {
      "cell_type": "markdown",
      "source": [
        "### `AND`, `OR`, `NOT`\n",
        "\n",
        "Los operadores lógicos `and`, `or` y `not` son usados para combinar expresiones lógicas en Python. Ellos son usados frecuentemente en conjunto con el comando `if` para crear estructuras condicionales más complejas.\n"
      ],
      "metadata": {
        "id": "GFIZnRWXGPWO"
      }
    },
    {
      "cell_type": "markdown",
      "source": [
        "- `AND` es usado para verificar si dos condiciones son verdaderas. La expresión lógica¹ `x and y` se evalúa como `True` tan solo si **ambas condiciones `x` y `y` son verdaderas**, y como `False` en caso contrario.\n",
        "\n",
        "- `OR` es usado para verificar si al menos una de las condiciones es verdadera. La expresión lógica `x or y` se evalúa como `True` **si al menos una de las condiciones `x` o `y` es verdadera**, y como `False` si ambas condiciones son falsas.\n",
        "\n",
        "- `NOT` es usado para **negar una condición**. La expresión lógica `not x` es evaluada como `True` si la condición x es falsa, y como `False` si la condición x es verdadera.\n",
        "\n",
        "¹ Una expresión lógica es una declaración que puede ser evaluada como verdadera o falsa. Ella se compone por operandos lógicos² y por operadores lógicos³, que son usados ​​para combinar varias expresiones lógicas en una única expresión.\n",
        "\n",
        "² Los operandos lógicos son los elementos que son comparados o evaluados en una expresión lógica. Ellos son generalmente valores verdaderos o falsos, pero también pueden ser expresiones lógicas más complejas. En Python, los operandos lógicos son los valores `True` y `False`.\n",
        "\n",
        "³ Los operadores lógicos son ls símbolos o palabras clave que son usados ​​para combinar varias expresiones lógicas en una única expresión. En Python, los operadores lógicos son `and`, `or` y `not`, bien como las palabras clave `if`, `elif` e `else`."
      ],
      "metadata": {
        "id": "Z_dgAoHXJbzB"
      }
    },
    {
      "cell_type": "markdown",
      "source": [
        "> Operadores lógicos más comunes\n",
        "\n",
        "|a|b|AND|OR|NOT|\n",
        "|-|-|-|-|-|\n",
        "|0|0|0|0|1\n",
        "|0|1|0|1|-\n",
        "|1|0|0|1|-\n",
        "|1|1|1|1|0\n"
      ],
      "metadata": {
        "id": "2E5aUogf-49u"
      }
    },
    {
      "cell_type": "code",
      "source": [
        "v=True\n",
        "f=False"
      ],
      "metadata": {
        "id": "DFKmpvmS-Pa6"
      },
      "execution_count": null,
      "outputs": []
    },
    {
      "cell_type": "code",
      "source": [
        "if not f:\n",
        "  print('Verdadero')\n",
        "else:\n",
        "  print('Falso')"
      ],
      "metadata": {
        "id": "W5BIrpOD-PeI",
        "outputId": "c6e15a36-8121-4094-95a2-d4a9efb70a62",
        "colab": {
          "base_uri": "https://localhost:8080/"
        }
      },
      "execution_count": null,
      "outputs": [
        {
          "output_type": "stream",
          "name": "stdout",
          "text": [
            "Verdadero\n"
          ]
        }
      ]
    },
    {
      "cell_type": "code",
      "source": [],
      "metadata": {
        "id": "fpDhYxq4-PiM"
      },
      "execution_count": null,
      "outputs": []
    },
    {
      "cell_type": "markdown",
      "source": [
        "### `IN`\n",
        "\n",
        "Es usado para verificar si un elemento está presente en una lista, tupla u otra colección de conjunto. La expresión `x in y` se evalúa como `True` si el elemento `x` esta presente na variávelen la variable de conjunto `y`, y como `False` en caso contrario."
      ],
      "metadata": {
        "id": "w7EXG1dhWtja"
      }
    },
    {
      "cell_type": "markdown",
      "source": [
        "Podemos verificarlo con variables de texto.\n",
        "\n",
        "---\n",
        "\n",
        "**Situación:**\n",
        "\n",
        "En la escuela nos entregaron una lista con nombres de estudiantes que fueron aprobados según el promedio del semestre, pero es necesario verificar si algunos nombres están en esa lista para confirmar que los datos estén correctos.\n",
        "\n",
        "La lista distribuida puede ser observada a continuación:\n",
        "\n",
        "```\n",
        "lista = 'Juan Pérez, María González, Pedro Rodríguez, Ana López, Carlos Martínez,\n",
        "    Laura Sánchez, José García, Elena Fernández, Luis Morales, Carmen Torres,\n",
        "    David Ruiz, Isabel Ramírez, Javier Díaz, Sara Herrera, Miguel Castro,\n",
        "    Patricia Ortega, Francisco Vargas, Marta Jiménez, Manuel Medina, Rosa Molina,\n",
        "    Alejandro Silva, Silvia Ruiz, Andrés Torres, Natalia Soto, Diego Guerrero,\n",
        "    Paula Ríos, Ricardo Navarro, Alicia Cordero, Carlos Vidal, Lorena Gómez'\n",
        "```\n",
        "\n",
        "Los nombres que necesitas verificar son los siguientes:\n",
        "\n",
        "```\n",
        "nombre_1 = 'Miguel Castro'\n",
        "nombre_2 = 'Marcelo Noguera'\n",
        "```"
      ],
      "metadata": {
        "id": "enJNp6JenQbq"
      }
    },
    {
      "cell_type": "code",
      "source": [
        "lista = 'Juan Pérez', 'María González', 'Pedro Rodríguez', 'Ana López'"
      ],
      "metadata": {
        "id": "gPPN9BCT-Mki"
      },
      "execution_count": null,
      "outputs": []
    },
    {
      "cell_type": "code",
      "source": [
        "nombre_1='Juan Pérez'\n",
        "nombre_2='Bryan Lopez'"
      ],
      "metadata": {
        "id": "GINbG3Fa-Mnb"
      },
      "execution_count": null,
      "outputs": []
    },
    {
      "cell_type": "code",
      "source": [
        "if nombre_2 in lista:\n",
        "  print(\"Estudiante aprobado\")\n",
        "else:\n",
        "  print(\"Estudiante desaprobado\")"
      ],
      "metadata": {
        "id": "hk-RhNRT-Mp7",
        "outputId": "ed120ff1-d34f-4be7-a22d-6b049a079b6f",
        "colab": {
          "base_uri": "https://localhost:8080/"
        }
      },
      "execution_count": null,
      "outputs": [
        {
          "output_type": "stream",
          "name": "stdout",
          "text": [
            "Estudiante desaprobado\n"
          ]
        }
      ]
    },
    {
      "cell_type": "code",
      "source": [
        "a=int(input(\"Introduce un 1er número:\"))\n",
        "b=int(input(\"Introduce un 2do número:\"))\n",
        "if a>b:\n",
        "  print(f'{a}es mayor a {b}')\n",
        "elif a<b:\n",
        "  print(f'{a} es menor a {b}')\n",
        "else:\n",
        "  print(\"Son los mismos números\")"
      ],
      "metadata": {
        "id": "45gfP2rt2Kk_",
        "outputId": "1c619132-c0fe-4c5e-94c9-8479b090a156",
        "colab": {
          "base_uri": "https://localhost:8080/"
        }
      },
      "execution_count": null,
      "outputs": [
        {
          "output_type": "stream",
          "name": "stdout",
          "text": [
            "Introduce un 1er número:7\n",
            "Introduce un 2do número:10\n",
            "7 es menor a 10\n"
          ]
        }
      ]
    },
    {
      "cell_type": "code",
      "source": [
        "c=float(input(\"Introducir porcentaje de crecimiento: \\nPorcentaje\"))\n",
        "if c>0:\n",
        "  print(f'Crecimiento positivo en {c}%')\n",
        "elif c<0:\n",
        "  print(f'Crecimiento negativo en {c}%')\n",
        "else:\n",
        "  print(\"No hubo crecimiento\")"
      ],
      "metadata": {
        "id": "a7y0pLcA2z24",
        "outputId": "5e096284-9a30-4947-c0bc-b77713fb2e66",
        "colab": {
          "base_uri": "https://localhost:8080/"
        }
      },
      "execution_count": null,
      "outputs": [
        {
          "output_type": "stream",
          "name": "stdout",
          "text": [
            "Introducir porcentaje de crecimiento: \n",
            "Porcentaje0\n",
            "No hubo crecimiento\n"
          ]
        }
      ]
    },
    {
      "cell_type": "code",
      "source": [
        "vocales='a','e','i','o','u'\n",
        "vocal=input(\"Intruduzca una letra: \").lower()\n",
        "if vocal in vocales:\n",
        "  print(f'{vocal} es una vocal')\n",
        "else:\n",
        "  print(f'{vocal} es una consonante')"
      ],
      "metadata": {
        "id": "yXhR2slZ3YXe",
        "outputId": "423ba1db-5c3f-4eed-8ad3-72b2a4d93a93",
        "colab": {
          "base_uri": "https://localhost:8080/"
        }
      },
      "execution_count": null,
      "outputs": [
        {
          "output_type": "stream",
          "name": "stdout",
          "text": [
            "Intruduzca una letra: A\n",
            "a es una vocal\n"
          ]
        }
      ]
    },
    {
      "cell_type": "code",
      "source": [
        "a=float(input(\"Introduza precio 1: \"))\n",
        "b=float(input(\"Introduza precio 2: \"))\n",
        "c=float(input(\"Introduza precio 3: \"))\n",
        "d=a,b,c\n",
        "print(max(d))\n",
        "print(min(d))\n"
      ],
      "metadata": {
        "id": "IJfWKw8K4H2p",
        "outputId": "1c219f3c-31aa-45c7-f810-de894bfff2ea",
        "colab": {
          "base_uri": "https://localhost:8080/"
        }
      },
      "execution_count": null,
      "outputs": [
        {
          "output_type": "stream",
          "name": "stdout",
          "text": [
            "Introduza precio 1: 5\n",
            "Introduza precio 2: 7\n",
            "Introduza precio 3: 10\n",
            "10.0\n",
            "5.0\n"
          ]
        }
      ]
    },
    {
      "cell_type": "code",
      "source": [
        "a=float(input(\"Introduza precio 1: \"))\n",
        "b=float(input(\"Introduza precio 2: \"))\n",
        "c=float(input(\"Introduza precio 3: \"))\n",
        "if a<b and a<c:\n",
        "  print(f'{a} es el menor')\n",
        "elif b<a and b<c:\n",
        "  print(f'{b} es el menor')\n",
        "elif c<a and c<b:\n",
        "  print(f'{c} es el menor')\n",
        "else:\n",
        "  print('Incongruencias:\\n\\tSon iguales\\n\\tNo son números')"
      ],
      "metadata": {
        "id": "IHsu19NO40lL",
        "outputId": "25785de9-0457-4547-d532-cc60cdeb4336",
        "colab": {
          "base_uri": "https://localhost:8080/"
        }
      },
      "execution_count": null,
      "outputs": [
        {
          "output_type": "stream",
          "name": "stdout",
          "text": [
            "Introduza precio 1: 5\n",
            "Introduza precio 2: 5\n",
            "Introduza precio 3: 8\n",
            "Incongruencias:\n",
            "\tSon iguales\n",
            "\tNo son números\n"
          ]
        }
      ]
    },
    {
      "cell_type": "code",
      "source": [
        "a=float(input(\"Introduza precio 1: \"))\n",
        "b=float(input(\"Introduza precio 2: \"))\n",
        "c=float(input(\"Introduza precio 3: \"))\n",
        "d=a,b,c\n",
        "sorted(d,reverse=True)\n"
      ],
      "metadata": {
        "id": "wEDWcBi36V4E",
        "outputId": "c3e0d07a-f466-404b-e321-96422d41729b",
        "colab": {
          "base_uri": "https://localhost:8080/"
        }
      },
      "execution_count": null,
      "outputs": [
        {
          "name": "stdout",
          "output_type": "stream",
          "text": [
            "Introduza precio 1: 8\n",
            "Introduza precio 2: 5\n",
            "Introduza precio 3: 9\n"
          ]
        },
        {
          "output_type": "execute_result",
          "data": {
            "text/plain": [
              "[9.0, 8.0, 5.0]"
            ]
          },
          "metadata": {},
          "execution_count": 82
        }
      ]
    },
    {
      "cell_type": "code",
      "source": [
        "d=input(\"¿En qué turno te encuentras:?\").lower().strip()\n",
        "if d==\"mañana\":\n",
        "  print(\"Buenos días\")\n",
        "elif d==\"tarde\":\n",
        "  print(\"Buenas tardes\")\n",
        "elif d==\"noche\":\n",
        "  print('Buenas noches')\n",
        "else:\n",
        "  print(\"Valor Inválido!\")"
      ],
      "metadata": {
        "id": "_mltsPMi7Ipd",
        "outputId": "0009bb49-8325-4780-be4f-5c6ac235f371",
        "colab": {
          "base_uri": "https://localhost:8080/"
        }
      },
      "execution_count": null,
      "outputs": [
        {
          "output_type": "stream",
          "name": "stdout",
          "text": [
            "¿En qué turno te encuentras:?     TaRdE         \n",
            "Buenas tardes\n"
          ]
        }
      ]
    },
    {
      "cell_type": "markdown",
      "source": [],
      "metadata": {
        "id": "759HusdU8fG9"
      }
    },
    {
      "cell_type": "code",
      "source": [
        "a=int(input(\"Introduzca un número:\\nNúmero: \"))\n",
        "if a==0:\n",
        " print(f\"Es número {a}\")\n",
        "elif a%2==0:\n",
        "  print(f'{a} es par')\n",
        "else:\n",
        "  print(f'{a} es impar')\n"
      ],
      "metadata": {
        "id": "i_Q6iZl573fb",
        "outputId": "e39e03b3-a5ec-4295-fd51-3db815d108af",
        "colab": {
          "base_uri": "https://localhost:8080/"
        }
      },
      "execution_count": null,
      "outputs": [
        {
          "output_type": "stream",
          "name": "stdout",
          "text": [
            "Introduzca un número:\n",
            "Número: 1\n",
            "1 es impar\n"
          ]
        }
      ]
    },
    {
      "cell_type": "code",
      "source": [
        "a=float(input(\"Introduzca un número:\\nNúmero: \"))\n",
        "if round(a,0)==a:\n",
        "  print(f'{a} es entero')\n",
        "else:\n",
        "  print(f'{a} no es entero')"
      ],
      "metadata": {
        "id": "iPPTtMZT8a5w",
        "outputId": "4e5949dc-a1e2-4f71-d0f0-3b908431058b",
        "colab": {
          "base_uri": "https://localhost:8080/"
        }
      },
      "execution_count": null,
      "outputs": [
        {
          "output_type": "stream",
          "name": "stdout",
          "text": [
            "Introduzca un número:\n",
            "Número: 5.2\n",
            "5.2 no es entero\n"
          ]
        }
      ]
    },
    {
      "cell_type": "code",
      "source": [
        "a=float(input(\"Introduza un número:\\n\\tNúmero: \"))\n",
        "b=float(input(\"Introduza un número:\\n\\tNúmero: \"))\n",
        "d=int(input(\"Que operación desea realizar:\\n1.Suma\\n2.Resta\\n3.Multiplicación\\n4.División\\n\\tEscribir el número de la operación: \"))\n",
        "\n",
        "if d==1:\n",
        "  c=a+b\n",
        "  print(f'La suma es:{a+b}')\n",
        "elif d==2:\n",
        "  c=a-b\n",
        "  print(f'La resta es:{a-b}')\n",
        "elif d==3:\n",
        "  c=a*b\n",
        "  print(f'La multiplicación es:{a*b}')\n",
        "elif d==4:\n",
        " c=a/b\n",
        " print(f'La división es {a/b}')\n",
        "else:\n",
        "  print(\"Operación incorrecta\")\n",
        "if c%2==0:\n",
        "  print(f'{c} es par')\n",
        "else:\n",
        "  print(f'{c} es impar')\n",
        "if round(c,0)==0:\n",
        "  print(f'{c} es entero')\n",
        "else:\n",
        "  print(f'{c} es decimal')\n",
        "if c>0:\n",
        "  print(f'{c} es positivo')\n",
        "elif c<0:\n",
        "  print(f'{c} es negativo')\n",
        "else:\n",
        "  print(\"Es el número 0\")\n"
      ],
      "metadata": {
        "id": "Hh4ks06V8872",
        "outputId": "6fa47628-bfe4-4300-dd1d-cd25b529df6d",
        "colab": {
          "base_uri": "https://localhost:8080/",
          "height": 384
        }
      },
      "execution_count": null,
      "outputs": [
        {
          "name": "stdout",
          "output_type": "stream",
          "text": [
            "Introduza un número:\n",
            "\tNúmero: 5\n",
            "Introduza un número:\n",
            "\tNúmero: 0\n",
            "Que operación desea realizar:\n",
            "1.Suma\n",
            "2.Resta\n",
            "3.Multiplicación\n",
            "4.División\n",
            "\tEscribir el número de la operación: 4\n"
          ]
        },
        {
          "output_type": "error",
          "ename": "ZeroDivisionError",
          "evalue": "float division by zero",
          "traceback": [
            "\u001b[0;31m---------------------------------------------------------------------------\u001b[0m",
            "\u001b[0;31mZeroDivisionError\u001b[0m                         Traceback (most recent call last)",
            "\u001b[0;32m/tmp/ipython-input-3339250716.py\u001b[0m in \u001b[0;36m<cell line: 0>\u001b[0;34m()\u001b[0m\n\u001b[1;32m     13\u001b[0m   \u001b[0mprint\u001b[0m\u001b[0;34m(\u001b[0m\u001b[0;34mf'La multiplicación es:{a*b}'\u001b[0m\u001b[0;34m)\u001b[0m\u001b[0;34m\u001b[0m\u001b[0;34m\u001b[0m\u001b[0m\n\u001b[1;32m     14\u001b[0m \u001b[0;32melif\u001b[0m \u001b[0md\u001b[0m\u001b[0;34m==\u001b[0m\u001b[0;36m4\u001b[0m\u001b[0;34m:\u001b[0m\u001b[0;34m\u001b[0m\u001b[0;34m\u001b[0m\u001b[0m\n\u001b[0;32m---> 15\u001b[0;31m  \u001b[0mc\u001b[0m\u001b[0;34m=\u001b[0m\u001b[0ma\u001b[0m\u001b[0;34m/\u001b[0m\u001b[0mb\u001b[0m\u001b[0;34m\u001b[0m\u001b[0;34m\u001b[0m\u001b[0m\n\u001b[0m\u001b[1;32m     16\u001b[0m  \u001b[0mprint\u001b[0m\u001b[0;34m(\u001b[0m\u001b[0;34mf'La división es {a/b}'\u001b[0m\u001b[0;34m)\u001b[0m\u001b[0;34m\u001b[0m\u001b[0;34m\u001b[0m\u001b[0m\n\u001b[1;32m     17\u001b[0m \u001b[0;32melse\u001b[0m\u001b[0;34m:\u001b[0m\u001b[0;34m\u001b[0m\u001b[0;34m\u001b[0m\u001b[0m\n",
            "\u001b[0;31mZeroDivisionError\u001b[0m: float division by zero"
          ]
        }
      ]
    },
    {
      "cell_type": "code",
      "source": [
        "a=float(input(\"Introduza precio 1: \"))\n",
        "b=float(input(\"Introduza precio 2: \"))\n",
        "c=float(input(\"Introduza precio 3: \"))\n",
        "if a+b>c and a+c>b and b+c>a:\n",
        "  print(\"Se puede formar un triángulo\")\n",
        "  if a==b==c:\n",
        "    print(\"Es un triángulo equilátero\")\n",
        "  elif a==b or a==c or b==c:\n",
        "    print(\"Es un triángulo isósceles\")\n",
        "  else:\n",
        "    print(\"Es un triánguloe escaleno\")\n",
        "else:\n",
        "  print(\"No se puede formar un triángulo\")"
      ],
      "metadata": {
        "id": "EVpHn_-Z_usf",
        "outputId": "7169cf36-239f-4d60-87aa-c121c1e1122b",
        "colab": {
          "base_uri": "https://localhost:8080/"
        }
      },
      "execution_count": null,
      "outputs": [
        {
          "output_type": "stream",
          "name": "stdout",
          "text": [
            "Introduza precio 1: 2\n",
            "Introduza precio 2: 3\n",
            "Introduza precio 3: 5\n",
            "No se puede formar un triángulo\n"
          ]
        }
      ]
    },
    {
      "cell_type": "code",
      "source": [
        "Combustible=int(input(\"Introduza que combustible a adquirir:\\n\\t1.Etanol\\n\\t2.Diesel\\nIntroduzca solo el número asignado: \"))\n",
        "Litros=float(input('Introduza cantidad de litros: '))\n",
        "if Combustible==1 and Litros<=15:\n",
        "  descuento=1.7*0.02*Litros\n",
        "  valor_pagar=1.7*Litros\n",
        "elif Combustible==1 and Litros>15:\n",
        "  descuento=1.7*Litros*0.04\n",
        "  valor_pagar=1.7*Litros\n",
        "elif Combustible==2 and Litros<=15:\n",
        "  descuento=0.03*Litros*2\n",
        "  valor_pagar=2*Litros\n",
        "elif Combustible==2 and Litros>15:\n",
        "  descuento=0.05*Litros*2\n",
        "  valor_pagar=2*Litros\n",
        "else:\n",
        "  print(\"Se introdujeron valores incorrectos\")\n",
        "print(f\"Total descuento: {descuento}\")\n",
        "print(f'Total pago: {valor_pagar-descuento}')\n",
        "\n",
        "\n"
      ],
      "metadata": {
        "id": "o0WdLKMDBesJ",
        "outputId": "6901852f-f950-42d5-843c-4f79f019af61",
        "colab": {
          "base_uri": "https://localhost:8080/"
        }
      },
      "execution_count": null,
      "outputs": [
        {
          "output_type": "stream",
          "name": "stdout",
          "text": [
            "Introduza que combustible a adquirir:\n",
            "\t1.Etanol\n",
            "\t2.Diesel\n",
            "Introduzca solo el número asignado: 2\n",
            "Introduza cantidad de litros: 15\n",
            "Total descuento: 0.8999999999999999\n",
            "Total pago: 29.1\n"
          ]
        }
      ]
    },
    {
      "cell_type": "code",
      "source": [
        "a=float(input(\"Introduza precio 1: \"))\n",
        "b=float(input(\"Introduza precio 2: \"))\n",
        "c=(b-a)/a\n",
        "\n",
        "if c>0.2:\n",
        "  print(f\"Bonificación para el equipo de ventas;se logro variación: {c}\")\n",
        "elif c>=0.02:\n",
        "  print(f'Pequeña bonificación para el equipo de ventas,se logro variación: {c}')\n",
        "elif c>=-0.1:\n",
        "  print(f'Planifación de políticas de incentivo de ventas,se logro variación: {c}')\n",
        "else:\n",
        "  print(f\"Recorte de gastos,se logro variación:{c}\")"
      ],
      "metadata": {
        "id": "6mTtMTdGFQDY",
        "outputId": "aa381d23-71e6-4612-d4b1-c601a36faa32",
        "colab": {
          "base_uri": "https://localhost:8080/"
        }
      },
      "execution_count": null,
      "outputs": [
        {
          "output_type": "stream",
          "name": "stdout",
          "text": [
            "Introduza precio 1: 10\n",
            "Introduza precio 2: 8\n",
            "Recorte de gastos,se logro variación:-0.2\n"
          ]
        }
      ]
    },
    {
      "cell_type": "markdown",
      "source": [
        "# Estructuras de repetición"
      ],
      "metadata": {
        "id": "aL1vJPewvwvz"
      }
    },
    {
      "cell_type": "markdown",
      "source": [
        "Cuando tenemos que ejecutar un mismo bloque de comandos durante varias ocasiones no es nada práctico hacerlo a mano.\n",
        "\n",
        "**Situación**: Nos fue solicitado obtener e imprimir el promedio de 2 notas de **3 estudantes**:"
      ],
      "metadata": {
        "id": "VcPfCa8d-84t"
      }
    },
    {
      "cell_type": "code",
      "source": [
        "nota_1=float(input('Introduce la 1era nota: '))\n",
        "nota_2=float(input('Introduce la 2da nota:'))\n",
        "print(f'El promedio del estudiante 1 es: {(nota_1+nota_2)/2}')\n",
        "\n",
        "nota_1=float(input('Introduce la 1era nota: '))\n",
        "nota_2=float(input('Introduce la 2da nota:'))\n",
        "print(f'El promedio del estudiante 2 es: {(nota_1+nota_2)/2}')\n",
        "\n",
        "nota_1=float(input('Introduce la 1era nota: '))\n",
        "nota_2=float(input('Introduce la 2da nota:'))\n",
        "print(f'El promedio del estudiante 3 es: {(nota_1+nota_2)/2}')\n"
      ],
      "metadata": {
        "id": "xcx21IGT9qA0",
        "outputId": "6ca4e3c0-7283-4e51-d776-801d54561b3f",
        "colab": {
          "base_uri": "https://localhost:8080/"
        }
      },
      "execution_count": null,
      "outputs": [
        {
          "output_type": "stream",
          "name": "stdout",
          "text": [
            "Introduce la 1era nota: 6\n",
            "Introduce la 2da nota:8.5\n",
            "El promedio del estudiante 1 es: 7.25\n",
            "Introduce la 1era nota: 8.3\n",
            "Introduce la 2da nota:9\n",
            "El promedio del estudiante 2 es: 8.65\n",
            "Introduce la 1era nota: 3\n",
            "Introduce la 2da nota:10\n",
            "El promedio del estudiante 3 es: 6.5\n"
          ]
        }
      ]
    },
    {
      "cell_type": "code",
      "source": [
        "i=0\n",
        "while i<=1:\n",
        "  nota_1=float(input('Introduce la 1era nota: '))\n",
        "  nota_2=float(input('Introduce la 2da nota:'))\n",
        "  print(f'El promedio del estudiante {i+1} es: {(nota_1+nota_2)/2}')\n",
        "  i=i+18\n",
        "\n",
        "\n"
      ],
      "metadata": {
        "id": "Wtbiy9Ay9rGJ",
        "outputId": "d27dcc01-5ad4-4a48-ab35-b25d9e0c8d8f",
        "colab": {
          "base_uri": "https://localhost:8080/"
        }
      },
      "execution_count": null,
      "outputs": [
        {
          "output_type": "stream",
          "name": "stdout",
          "text": [
            "Introduce la 1era nota: 5\n",
            "Introduce la 2da nota:8\n",
            "El promedio del estudiante 1 es: 6.5\n",
            "Introduce la 1era nota: 7\n",
            "Introduce la 2da nota:9\n",
            "El promedio del estudiante 2 es: 8.0\n"
          ]
        }
      ]
    },
    {
      "cell_type": "code",
      "source": [
        "contador=1\n",
        "while contador<=10:\n",
        "  print(contador)\n",
        "  #contador =contador+1\n",
        "  contador+=1\n"
      ],
      "metadata": {
        "id": "Yfyz4anY9rIr",
        "outputId": "34f45bbd-60fd-4047-d384-3b6093f84216",
        "colab": {
          "base_uri": "https://localhost:8080/"
        }
      },
      "execution_count": null,
      "outputs": [
        {
          "output_type": "stream",
          "name": "stdout",
          "text": [
            "1\n",
            "2\n",
            "3\n",
            "4\n",
            "5\n",
            "6\n",
            "7\n",
            "8\n",
            "9\n",
            "10\n"
          ]
        }
      ]
    },
    {
      "cell_type": "code",
      "source": [
        "alumno=1\n",
        "while alumno<=3:\n",
        "  nota_1=float(input('Introduce la 1era nota: '))\n",
        "  nota_2=float(input('Introduce la 2da nota:'))\n",
        "  print(f'El promedio del estudiante {alumno} es: {(nota_1+nota_2)/2}')\n",
        "  alumno+=1\n",
        "\n"
      ],
      "metadata": {
        "id": "x3zzOy6o-bxO",
        "outputId": "cd7deffc-4feb-423b-8edd-ea2d4452f960",
        "colab": {
          "base_uri": "https://localhost:8080/"
        }
      },
      "execution_count": null,
      "outputs": [
        {
          "output_type": "stream",
          "name": "stdout",
          "text": [
            "Introduce la 1era nota: 2\n",
            "Introduce la 2da nota:3\n",
            "El promedio del estudiante 1 es: 2.5\n",
            "Introduce la 1era nota: 8\n",
            "Introduce la 2da nota:5\n",
            "El promedio del estudiante 2 es: 6.5\n",
            "Introduce la 1era nota: 9\n",
            "Introduce la 2da nota:78\n",
            "El promedio del estudiante 3 es: 43.5\n"
          ]
        }
      ]
    },
    {
      "cell_type": "markdown",
      "source": [
        "Ahora imaginemos una situación en que no son tan solo 3 estudiantes, sino 100 estudiantes. No sería nada interesante repetir el mismo código 100 veces, sino **ejecutar el mismo código 100 veces**.\n",
        "\n",
        "¡Esta estructura la logramos construir con lazos de repetición!"
      ],
      "metadata": {
        "id": "9puIuvUbFSFX"
      }
    },
    {
      "cell_type": "markdown",
      "source": [
        "## `WHILE`"
      ],
      "metadata": {
        "id": "uLO9-aE4-wx8"
      }
    },
    {
      "cell_type": "markdown",
      "source": [
        "El lazo `while` es una estructura de control de repetición en Python que permite ejecutar un bloque de código repetidamente mientras que una determinada condición sea verdadera. Su estructura es:\n",
        "\n",
        "\n",
        "\n",
        "```\n",
        "while condicion:\n",
        "    # bloque de codigo\n",
        "```\n",
        "\n",
        "Vamos a construir un ejemplo con un contador de 1 hasta 10.\n"
      ],
      "metadata": {
        "id": "rXZxDMiqHxm9"
      }
    },
    {
      "cell_type": "code",
      "source": [],
      "metadata": {
        "id": "Hd0ZSWxD9wCD"
      },
      "execution_count": null,
      "outputs": []
    },
    {
      "cell_type": "code",
      "source": [],
      "metadata": {
        "id": "miFHNqp29nOL"
      },
      "execution_count": null,
      "outputs": []
    },
    {
      "cell_type": "markdown",
      "source": [
        "Ahora vamos a colectar las notas y promedios de cada alumno dentro del lazo `while`. Haremos un ejemplo con 3 promedios."
      ],
      "metadata": {
        "id": "W4KZPBJuIrut"
      }
    },
    {
      "cell_type": "code",
      "source": [],
      "metadata": {
        "id": "9T5eCLFx9wk6"
      },
      "execution_count": null,
      "outputs": []
    },
    {
      "cell_type": "code",
      "source": [],
      "metadata": {
        "id": "P6E0_dW-9lZ9"
      },
      "execution_count": null,
      "outputs": []
    },
    {
      "cell_type": "markdown",
      "source": [
        "## `FOR`"
      ],
      "metadata": {
        "id": "WgAIaENMMfCP"
      }
    },
    {
      "cell_type": "markdown",
      "source": [
        "El lazo `for` es un tipo de estructura de control de flujo en Python que permite iterar sobre un conjunto de elementos. Su estructura es:\n",
        "\n",
        "\n",
        "\n",
        "```\n",
        "for elemento in conjunto:\n",
        "    # codigo a ser ejecutado para cada elemento\n",
        "```\n",
        "\n",
        "El lazo `for` itera sobre cada elemento del conjunto especificado y ejecuta el bloque de código dentro del lazo para cada elemento. Cuando el lazo llega al final del conjunto, este se interrumpe y el programa continúa la ejecución después del lazo.\n",
        "\n"
      ],
      "metadata": {
        "id": "HxrSZoRAMh-x"
      }
    },
    {
      "cell_type": "markdown",
      "source": [
        "El conjunto lo podemos generar con la función incorporada [`range()`](https://docs.python.org/3/library/functions.html#func-range). Se trata de una función capaz de generar una secuencia de números enteros. La estructura de esta función es:\n",
        "\n",
        "```\n",
        "range(inicio, fin, paso)\n",
        "```\n",
        "\n",
        "Según la documentación, `range()` genera una secuencia de números enteros a partir del valor del parámetro `inicio` hasta el valor del parámetro `fin`, de acuerdo con el valor del parámetro `paso`. Si `inicio` no es especificado, el valor por defecto es `0`. Si `paso` no es especificado, el valor por defecto es `1`.\n",
        "\n",
        "\n"
      ],
      "metadata": {
        "id": "6VgjyoQtPHBM"
      }
    },
    {
      "cell_type": "markdown",
      "source": [
        "Vamos a recrear el mismo contador `while` con el lazo `for`."
      ],
      "metadata": {
        "id": "ryn0hfdlUwC8"
      }
    },
    {
      "cell_type": "code",
      "source": [
        "for n in range(1,11):\n",
        " print(n)"
      ],
      "metadata": {
        "id": "KkL1wUIj9jL4",
        "outputId": "115501b4-e7ac-4aee-aa34-dffa04521b65",
        "colab": {
          "base_uri": "https://localhost:8080/"
        }
      },
      "execution_count": null,
      "outputs": [
        {
          "output_type": "stream",
          "name": "stdout",
          "text": [
            "1\n",
            "2\n",
            "3\n",
            "4\n",
            "5\n",
            "6\n",
            "7\n",
            "8\n",
            "9\n",
            "10\n"
          ]
        }
      ]
    },
    {
      "cell_type": "code",
      "source": [
        "for e in range(1,4):\n",
        "  nota_1=float(input('Introduce la 1era nota: '))\n",
        "  nota_2=float(input('Introduce la 2da nota:'))\n",
        "  print(f'El promedio del estudiante {e} es: {(nota_1+nota_2)/2}')"
      ],
      "metadata": {
        "id": "uXIZnLSr9jOu",
        "outputId": "6d084659-12ef-44b2-8022-bb9c05c2c6b3",
        "colab": {
          "base_uri": "https://localhost:8080/"
        }
      },
      "execution_count": null,
      "outputs": [
        {
          "output_type": "stream",
          "name": "stdout",
          "text": [
            "Introduce la 1era nota: 5\n",
            "Introduce la 2da nota:8\n",
            "El promedio del estudiante 1 es: 6.5\n",
            "Introduce la 1era nota: 6\n",
            "Introduce la 2da nota:9\n",
            "El promedio del estudiante 2 es: 7.5\n",
            "Introduce la 1era nota: 2\n",
            "Introduce la 2da nota:8\n",
            "El promedio del estudiante 3 es: 5.0\n"
          ]
        }
      ]
    },
    {
      "cell_type": "code",
      "source": [
        "for i in range(1, 6):\n",
        "    if i == 4:\n",
        "        continue\n",
        "    print(i)"
      ],
      "metadata": {
        "id": "l5D9T2XLCB_h",
        "outputId": "5a4f602e-0402-4cea-850e-9bfb3f3421f1",
        "colab": {
          "base_uri": "https://localhost:8080/"
        }
      },
      "execution_count": null,
      "outputs": [
        {
          "output_type": "stream",
          "name": "stdout",
          "text": [
            "1\n",
            "2\n",
            "3\n",
            "5\n"
          ]
        }
      ]
    },
    {
      "cell_type": "code",
      "source": [
        "for i in range(1, 6):\n",
        "    if i == 4:\n",
        "        break\n",
        "    print(i)"
      ],
      "metadata": {
        "id": "3Kodfh9QCXk7",
        "outputId": "65ee29de-5d74-47c6-bd9b-385025c365ea",
        "colab": {
          "base_uri": "https://localhost:8080/"
        }
      },
      "execution_count": null,
      "outputs": [
        {
          "output_type": "stream",
          "name": "stdout",
          "text": [
            "1\n",
            "2\n",
            "3\n"
          ]
        }
      ]
    },
    {
      "cell_type": "code",
      "source": [
        "a=int(input(\"Introduzca 1er número: \"))\n",
        "b=int(input(\"Introduzca 2do número: \"))\n",
        "for n in range(a,b+1):\n",
        "  print(n)"
      ],
      "metadata": {
        "id": "i7oSxc7yCbsk",
        "outputId": "bf3f712b-778c-476e-a123-79f2f1b80b4b",
        "colab": {
          "base_uri": "https://localhost:8080/"
        }
      },
      "execution_count": null,
      "outputs": [
        {
          "output_type": "stream",
          "name": "stdout",
          "text": [
            "Introduzca 1er número: 3\n",
            "Introduzca 2do número: 20\n",
            "3\n",
            "4\n",
            "5\n",
            "6\n",
            "7\n",
            "8\n",
            "9\n",
            "10\n",
            "11\n",
            "12\n",
            "13\n",
            "14\n",
            "15\n",
            "16\n",
            "17\n",
            "18\n",
            "19\n",
            "20\n"
          ]
        }
      ]
    },
    {
      "cell_type": "code",
      "source": [
        "a=4\n",
        "b=10\n",
        "i=1\n",
        "while a<=b:\n",
        "  a*=1.03\n",
        "  b*=1.015\n",
        "  print(f'{i} dia crecimiento de a= {a}, crecimiento de b={b}')\n",
        "  i+=1\n",
        "  if a<b:\n",
        "   continue\n",
        "  print(f\"Le tomo {i-1} dias a a alcanzar y supear a b\")"
      ],
      "metadata": {
        "id": "JdXztBPqC5N5",
        "outputId": "0dc51b83-4085-4b5f-d030-ad5f66aff930",
        "colab": {
          "base_uri": "https://localhost:8080/"
        }
      },
      "execution_count": null,
      "outputs": [
        {
          "output_type": "stream",
          "name": "stdout",
          "text": [
            "1 dia crecimiento de a= 4.12, crecimiento de b=10.149999999999999\n",
            "2 dia crecimiento de a= 4.2436, crecimiento de b=10.302249999999997\n",
            "3 dia crecimiento de a= 4.370908, crecimiento de b=10.456783749999996\n",
            "4 dia crecimiento de a= 4.5020352400000005, crecimiento de b=10.613635506249995\n",
            "5 dia crecimiento de a= 4.6370962972, crecimiento de b=10.772840038843745\n",
            "6 dia crecimiento de a= 4.7762091861160005, crecimiento de b=10.934432639426399\n",
            "7 dia crecimiento de a= 4.919495461699481, crecimiento de b=11.098449129017794\n",
            "8 dia crecimiento de a= 5.0670803255504655, crecimiento de b=11.26492586595306\n",
            "9 dia crecimiento de a= 5.21909273531698, crecimiento de b=11.433899753942356\n",
            "10 dia crecimiento de a= 5.375665517376489, crecimiento de b=11.60540825025149\n",
            "11 dia crecimiento de a= 5.536935482897784, crecimiento de b=11.77948937400526\n",
            "12 dia crecimiento de a= 5.703043547384717, crecimiento de b=11.956181714615338\n",
            "13 dia crecimiento de a= 5.874134853806259, crecimiento de b=12.135524440334567\n",
            "14 dia crecimiento de a= 6.050358899420448, crecimiento de b=12.317557306939584\n",
            "15 dia crecimiento de a= 6.231869666403061, crecimiento de b=12.502320666543676\n",
            "16 dia crecimiento de a= 6.418825756395154, crecimiento de b=12.68985547654183\n",
            "17 dia crecimiento de a= 6.611390529087008, crecimiento de b=12.880203308689955\n",
            "18 dia crecimiento de a= 6.809732244959618, crecimiento de b=13.073406358320304\n",
            "19 dia crecimiento de a= 7.014024212308407, crecimiento de b=13.269507453695107\n",
            "20 dia crecimiento de a= 7.22444493867766, crecimiento de b=13.468550065500532\n",
            "21 dia crecimiento de a= 7.4411782868379905, crecimiento de b=13.670578316483038\n",
            "22 dia crecimiento de a= 7.664413635443131, crecimiento de b=13.875636991230282\n",
            "23 dia crecimiento de a= 7.894346044506425, crecimiento de b=14.083771546098735\n",
            "24 dia crecimiento de a= 8.131176425841618, crecimiento de b=14.295028119290214\n",
            "25 dia crecimiento de a= 8.375111718616866, crecimiento de b=14.509453541079566\n",
            "26 dia crecimiento de a= 8.626365070175373, crecimiento de b=14.727095344195758\n",
            "27 dia crecimiento de a= 8.885156022280635, crecimiento de b=14.948001774358694\n",
            "28 dia crecimiento de a= 9.151710702949053, crecimiento de b=15.172221800974073\n",
            "29 dia crecimiento de a= 9.426262024037525, crecimiento de b=15.399805127988683\n",
            "30 dia crecimiento de a= 9.70904988475865, crecimiento de b=15.630802204908512\n",
            "31 dia crecimiento de a= 10.00032138130141, crecimiento de b=15.865264237982139\n",
            "32 dia crecimiento de a= 10.300331022740453, crecimiento de b=16.10324320155187\n",
            "33 dia crecimiento de a= 10.609340953422667, crecimiento de b=16.344791849575145\n",
            "34 dia crecimiento de a= 10.927621182025346, crecimiento de b=16.58996372731877\n",
            "35 dia crecimiento de a= 11.255449817486106, crecimiento de b=16.838813183228552\n",
            "36 dia crecimiento de a= 11.59311331201069, crecimiento de b=17.09139538097698\n",
            "37 dia crecimiento de a= 11.94090671137101, crecimiento de b=17.347766311691633\n",
            "38 dia crecimiento de a= 12.29913391271214, crecimiento de b=17.607982806367005\n",
            "39 dia crecimiento de a= 12.668107930093505, crecimiento de b=17.872102548462507\n",
            "40 dia crecimiento de a= 13.048151167996311, crecimiento de b=18.140184086689445\n",
            "41 dia crecimiento de a= 13.4395957030362, crecimiento de b=18.412286847989783\n",
            "42 dia crecimiento de a= 13.842783574127287, crecimiento de b=18.688471150709628\n",
            "43 dia crecimiento de a= 14.258067081351106, crecimiento de b=18.96879821797027\n",
            "44 dia crecimiento de a= 14.68580909379164, crecimiento de b=19.253330191239822\n",
            "45 dia crecimiento de a= 15.12638336660539, crecimiento de b=19.542130144108416\n",
            "46 dia crecimiento de a= 15.580174867603553, crecimiento de b=19.83526209627004\n",
            "47 dia crecimiento de a= 16.04758011363166, crecimiento de b=20.132791027714088\n",
            "48 dia crecimiento de a= 16.52900751704061, crecimiento de b=20.434782893129796\n",
            "49 dia crecimiento de a= 17.02487774255183, crecimiento de b=20.741304636526742\n",
            "50 dia crecimiento de a= 17.535624074828384, crecimiento de b=21.05242420607464\n",
            "51 dia crecimiento de a= 18.061692797073235, crecimiento de b=21.368210569165758\n",
            "52 dia crecimiento de a= 18.60354358098543, crecimiento de b=21.68873372770324\n",
            "53 dia crecimiento de a= 19.161649888414996, crecimiento de b=22.01406473361879\n",
            "54 dia crecimiento de a= 19.736499385067447, crecimiento de b=22.34427570462307\n",
            "55 dia crecimiento de a= 20.32859436661947, crecimiento de b=22.679439840192412\n",
            "56 dia crecimiento de a= 20.938452197618055, crecimiento de b=23.019631437795297\n",
            "57 dia crecimiento de a= 21.566605763546598, crecimiento de b=23.364925909362224\n",
            "58 dia crecimiento de a= 22.213603936452998, crecimiento de b=23.715399798002654\n",
            "59 dia crecimiento de a= 22.880012054546587, crecimiento de b=24.071130794972692\n",
            "60 dia crecimiento de a= 23.566412416182985, crecimiento de b=24.43219775689728\n",
            "61 dia crecimiento de a= 24.273404788668476, crecimiento de b=24.798680723250737\n",
            "62 dia crecimiento de a= 25.00160693232853, crecimiento de b=25.170660934099494\n",
            "63 dia crecimiento de a= 25.75165514029839, crecimiento de b=25.548220848110983\n",
            "Le tomo 63 dias a a alcanzar y supear a b\n"
          ]
        }
      ]
    },
    {
      "cell_type": "code",
      "source": [
        "a=int(input('Introduce un número del 0 al 5: '))\n",
        "while a not in range(0,6):\n",
        "  print(\"Número no esta en el range\")\n",
        "  a=int(input('Introduce un número del 0 al 5: '))\n",
        "\n",
        "print(a)\n",
        "\n"
      ],
      "metadata": {
        "id": "0tvozbajEkJ3",
        "outputId": "59ff09ad-cc37-4d78-bcaf-baed01b5b9c1",
        "colab": {
          "base_uri": "https://localhost:8080/"
        }
      },
      "execution_count": null,
      "outputs": [
        {
          "output_type": "stream",
          "name": "stdout",
          "text": [
            "Introduce un número del 0 al 5: -1\n",
            "Número no esta en el range\n",
            "Introduce un número del 0 al 5: 6\n",
            "Número no esta en el range\n",
            "Introduce un número del 0 al 5: 4\n",
            "4\n"
          ]
        }
      ]
    },
    {
      "cell_type": "markdown",
      "source": [],
      "metadata": {
        "id": "P-m9FY67G7dl"
      }
    },
    {
      "cell_type": "code",
      "source": [
        "a=int(input('Introduce el número de temperaturas a ingresar: '))\n",
        "c=0\n",
        "for i in range(1,a+1):\n",
        " b=int(input(f'Introduce temperatura n°{i}='))\n",
        " if b==-273:\n",
        "  break\n",
        "c+=b\n",
        "if i!=a:\n",
        " print(f'Se ingreso valor incorrecto -273')\n",
        "else:\n",
        " print(f\"La temperatura promedio es {c/a}\")"
      ],
      "metadata": {
        "id": "JNH49auuFxnN",
        "outputId": "52c4c94e-1422-46f9-e7cb-2d71e167bae4",
        "colab": {
          "base_uri": "https://localhost:8080/"
        }
      },
      "execution_count": null,
      "outputs": [
        {
          "output_type": "stream",
          "name": "stdout",
          "text": [
            "Introduce el número de temperaturas a ingresar: 5\n",
            "Introduce temperatura n°1=1\n",
            "Introduce temperatura n°2=2\n",
            "Introduce temperatura n°3=3\n",
            "Introduce temperatura n°4=-273\n",
            "Se ingreso valor incorrecto -273\n"
          ]
        }
      ]
    },
    {
      "cell_type": "code",
      "source": [
        "a=float(input('Introduce el número de temperaturas a ingresar: '))\n",
        "ntempera=0\n",
        "total=0\n",
        "while a !=-273:\n",
        "  total+=a\n",
        "  ntempera+=1\n",
        "  a=float(input('Introduce el número de temperaturas a ingresar: '))\n",
        "promedio=total/ntempera\n",
        "print(f'El promedio de temperatura es: {promedio}')\n"
      ],
      "metadata": {
        "id": "-puHM4rUTNCK",
        "outputId": "70e5ea57-4e4d-4900-dbd3-0e66e242295e",
        "colab": {
          "base_uri": "https://localhost:8080/"
        }
      },
      "execution_count": null,
      "outputs": [
        {
          "output_type": "stream",
          "name": "stdout",
          "text": [
            "Introduce el número de temperaturas a ingresar: 20\n",
            "Introduce el número de temperaturas a ingresar: 20\n",
            "Introduce el número de temperaturas a ingresar: 20\n",
            "Introduce el número de temperaturas a ingresar: 20\n",
            "Introduce el número de temperaturas a ingresar: -273\n",
            "El promedio de temperatura es: 20.0\n"
          ]
        }
      ]
    },
    {
      "cell_type": "code",
      "source": [
        "a=int(input(\"introduce el número del cual quieres su factorial: \"))\n",
        "i=1\n",
        "b=1\n",
        "while i<=a:\n",
        "  b*=i\n",
        "  i=i+1\n",
        "  print(b)"
      ],
      "metadata": {
        "id": "tdWl04yPI4Yi",
        "outputId": "c1f1832a-cb8c-40a9-9ba1-f84e0e3e91e0",
        "colab": {
          "base_uri": "https://localhost:8080/"
        }
      },
      "execution_count": null,
      "outputs": [
        {
          "output_type": "stream",
          "name": "stdout",
          "text": [
            "introduce el número del cual quieres su factorial: 5\n",
            "1\n",
            "2\n",
            "6\n",
            "24\n",
            "120\n"
          ]
        }
      ]
    },
    {
      "cell_type": "code",
      "source": [
        "a=int(input('Introduce que tabla de multiplicar quieres: '))\n",
        "for n in range(1,11):\n",
        "  print(f'{a}*{n}={a*n}')"
      ],
      "metadata": {
        "id": "H3KwLPpmKDP4",
        "outputId": "27630171-ea49-488e-c8dc-a86c2617838e",
        "colab": {
          "base_uri": "https://localhost:8080/"
        }
      },
      "execution_count": null,
      "outputs": [
        {
          "output_type": "stream",
          "name": "stdout",
          "text": [
            "Introduce que tabla de multiplicar quieres: 5\n",
            "5*1=5\n",
            "5*2=10\n",
            "5*3=15\n",
            "5*4=20\n",
            "5*5=25\n",
            "5*6=30\n",
            "5*7=35\n",
            "5*8=40\n",
            "5*9=45\n",
            "5*10=50\n"
          ]
        }
      ]
    },
    {
      "cell_type": "code",
      "source": [
        "a=int(input(\"Introduce un número para evaluar si es primo o no: \"))\n",
        "b=2,3,5,7\n",
        "c=0\n",
        "if a in b:\n",
        "  print(f\"El número {a} es primo\")\n",
        "else:\n",
        "  for n in b:\n",
        "    if a%n==0:\n",
        "      c+=1\n",
        "  if c!=0:\n",
        "    print(f'El número {a}  no es primo')\n",
        "  else:\n",
        "    print(f'El número {a} es primo')\n",
        "\n"
      ],
      "metadata": {
        "id": "DsutLulVKgnG",
        "outputId": "20e76609-e643-43fc-edf2-e60fd5bda829",
        "colab": {
          "base_uri": "https://localhost:8080/"
        }
      },
      "execution_count": null,
      "outputs": [
        {
          "output_type": "stream",
          "name": "stdout",
          "text": [
            "Introduce un número para evaluar si es primo o no: 39\n",
            "El número 39  no es primo\n"
          ]
        }
      ]
    },
    {
      "cell_type": "code",
      "source": [
        "# Recopilamos el número\n",
        "num = int(input('Ingresa un número entero: '))\n",
        "\n",
        "# Los números enteros iguales o menores que 1 no se consideran primos\n",
        "if num > 1:\n",
        "    for i in range(2, num):\n",
        "        # Verificamos todos los residuos de la división entre todos los números menores que num\n",
        "        # Si algún residuo es 0, significa que es divisible por otro número además de sí mismo y 1\n",
        "        if (num % i) == 0:\n",
        "            print(f'{num} no es un número primo')\n",
        "            break\n",
        "    else:\n",
        "        print(f'{num} es un número primo')\n",
        "else:\n",
        "    print(f'{num} no es un número primo')"
      ],
      "metadata": {
        "id": "A46JFHLoUsWJ",
        "outputId": "d8badad3-07cd-4774-bd8f-555e7bc5affa",
        "colab": {
          "base_uri": "https://localhost:8080/"
        }
      },
      "execution_count": null,
      "outputs": [
        {
          "output_type": "stream",
          "name": "stdout",
          "text": [
            "Ingresa un número entero: 15\n",
            "15 no es un número primo\n"
          ]
        }
      ]
    },
    {
      "cell_type": "code",
      "source": [
        "a=int(input(\"Introduce el número de edades a registrar: \"))\n",
        "r1=0\n",
        "r2=0\n",
        "r3=0\n",
        "r4=0\n",
        "for n in range(1,a+1):\n",
        "  b=int(input(f'Introduce la edad n°{n}: '))\n",
        "  if b<0:\n",
        "    print(\"Edad negativa ingresada\")\n",
        "    break\n",
        "  if b<=25:\n",
        "    r1+=1\n",
        "  elif b<=50:\n",
        "    r2+=1\n",
        "  elif b<=75:\n",
        "    r3+=1\n",
        "  elif b<=100:\n",
        "    r4+=1\n",
        "if n==a:\n",
        "  print(f\"Rango [0-25]: {r1} personas\")\n",
        "  print(f\"Rango [26-50]: {r2} personas\")\n",
        "  print(f\"Rango [51-75]: {r3} personas\")\n",
        "  print(f\"Rango [76-100]: {r4} personas\")\n"
      ],
      "metadata": {
        "id": "TJehxReuNvDz",
        "outputId": "085224ba-6b26-4dc0-b26e-40f435d38d58",
        "colab": {
          "base_uri": "https://localhost:8080/"
        }
      },
      "execution_count": null,
      "outputs": [
        {
          "output_type": "stream",
          "name": "stdout",
          "text": [
            "Introduce el número de edades a registrar: 5\n",
            "Introduce la edad n°1: 2\n",
            "Introduce la edad n°2: 85\n",
            "Introduce la edad n°3: 92\n",
            "Introduce la edad n°4: -5\n",
            "Edad negativa ingresada\n"
          ]
        }
      ]
    },
    {
      "cell_type": "code",
      "source": [
        "v1=0\n",
        "v2=0\n",
        "v3=0\n",
        "v4=0\n",
        "v5=0\n",
        "v6=0\n",
        "for n in range(1,21):\n",
        "  b=int(input(f\"{n}. Vota por tu candidato favorito:\\n\\t1.\\n\\t2.\\n\\t3.\\n\\t4.\\n\\t5.(Votos nuloes)\\n\\t6.Votos en blanco\\nVoto:4\"))\n",
        "  if b==1:\n",
        "    v1+=1\n",
        "  elif b==2:\n",
        "    v2+=1\n",
        "  elif b==3:\n",
        "    v3+=1\n",
        "  elif b==4:\n",
        "    v4+=1\n",
        "  elif b==5:\n",
        "    v5+=1\n",
        "  elif b==6:\n",
        "    v6+=1\n",
        "print(f\"Candidato 1: {v1}\")\n",
        "print(f\"Candidato 2: {v2}\")\n",
        "print(f\"Candidato 3: {v3}\")\n",
        "print(f\"Candidato 4: {v4}\")\n",
        "print(f\"Candidato 5: {v5}\")\n",
        "print(f\"Candidato 6: {v6}\")\n",
        "print(f'Porcentaje de votos nulos: {v5/20}')\n",
        "print(f'Porcentaje de votos en blanco: {v6/20}')\n",
        "\n"
      ],
      "metadata": {
        "id": "YFXjaJVZP7Fi",
        "outputId": "0120b9fa-7070-4cad-d586-2702e096dee3",
        "colab": {
          "base_uri": "https://localhost:8080/"
        }
      },
      "execution_count": null,
      "outputs": [
        {
          "output_type": "stream",
          "name": "stdout",
          "text": [
            "1. Vota por tu candidato favorito:\n",
            "\t1.\n",
            "\t2.\n",
            "\t3.\n",
            "\t4.\n",
            "\t5.(Votos nuloes)\n",
            "\t6.Votos en blanco\n",
            "Voto:41\n",
            "2. Vota por tu candidato favorito:\n",
            "\t1.\n",
            "\t2.\n",
            "\t3.\n",
            "\t4.\n",
            "\t5.(Votos nuloes)\n",
            "\t6.Votos en blanco\n",
            "Voto:42\n",
            "3. Vota por tu candidato favorito:\n",
            "\t1.\n",
            "\t2.\n",
            "\t3.\n",
            "\t4.\n",
            "\t5.(Votos nuloes)\n",
            "\t6.Votos en blanco\n",
            "Voto:43\n",
            "4. Vota por tu candidato favorito:\n",
            "\t1.\n",
            "\t2.\n",
            "\t3.\n",
            "\t4.\n",
            "\t5.(Votos nuloes)\n",
            "\t6.Votos en blanco\n",
            "Voto:44\n",
            "5. Vota por tu candidato favorito:\n",
            "\t1.\n",
            "\t2.\n",
            "\t3.\n",
            "\t4.\n",
            "\t5.(Votos nuloes)\n",
            "\t6.Votos en blanco\n",
            "Voto:45\n",
            "6. Vota por tu candidato favorito:\n",
            "\t1.\n",
            "\t2.\n",
            "\t3.\n",
            "\t4.\n",
            "\t5.(Votos nuloes)\n",
            "\t6.Votos en blanco\n",
            "Voto:46\n",
            "7. Vota por tu candidato favorito:\n",
            "\t1.\n",
            "\t2.\n",
            "\t3.\n",
            "\t4.\n",
            "\t5.(Votos nuloes)\n",
            "\t6.Votos en blanco\n",
            "Voto:46\n",
            "8. Vota por tu candidato favorito:\n",
            "\t1.\n",
            "\t2.\n",
            "\t3.\n",
            "\t4.\n",
            "\t5.(Votos nuloes)\n",
            "\t6.Votos en blanco\n",
            "Voto:45\n",
            "9. Vota por tu candidato favorito:\n",
            "\t1.\n",
            "\t2.\n",
            "\t3.\n",
            "\t4.\n",
            "\t5.(Votos nuloes)\n",
            "\t6.Votos en blanco\n",
            "Voto:44\n",
            "10. Vota por tu candidato favorito:\n",
            "\t1.\n",
            "\t2.\n",
            "\t3.\n",
            "\t4.\n",
            "\t5.(Votos nuloes)\n",
            "\t6.Votos en blanco\n",
            "Voto:45\n",
            "11. Vota por tu candidato favorito:\n",
            "\t1.\n",
            "\t2.\n",
            "\t3.\n",
            "\t4.\n",
            "\t5.(Votos nuloes)\n",
            "\t6.Votos en blanco\n",
            "Voto:41\n",
            "12. Vota por tu candidato favorito:\n",
            "\t1.\n",
            "\t2.\n",
            "\t3.\n",
            "\t4.\n",
            "\t5.(Votos nuloes)\n",
            "\t6.Votos en blanco\n",
            "Voto:42\n",
            "13. Vota por tu candidato favorito:\n",
            "\t1.\n",
            "\t2.\n",
            "\t3.\n",
            "\t4.\n",
            "\t5.(Votos nuloes)\n",
            "\t6.Votos en blanco\n",
            "Voto:43\n",
            "14. Vota por tu candidato favorito:\n",
            "\t1.\n",
            "\t2.\n",
            "\t3.\n",
            "\t4.\n",
            "\t5.(Votos nuloes)\n",
            "\t6.Votos en blanco\n",
            "Voto:42\n",
            "15. Vota por tu candidato favorito:\n",
            "\t1.\n",
            "\t2.\n",
            "\t3.\n",
            "\t4.\n",
            "\t5.(Votos nuloes)\n",
            "\t6.Votos en blanco\n",
            "Voto:44\n",
            "16. Vota por tu candidato favorito:\n",
            "\t1.\n",
            "\t2.\n",
            "\t3.\n",
            "\t4.\n",
            "\t5.(Votos nuloes)\n",
            "\t6.Votos en blanco\n",
            "Voto:45\n",
            "17. Vota por tu candidato favorito:\n",
            "\t1.\n",
            "\t2.\n",
            "\t3.\n",
            "\t4.\n",
            "\t5.(Votos nuloes)\n",
            "\t6.Votos en blanco\n",
            "Voto:46\n",
            "18. Vota por tu candidato favorito:\n",
            "\t1.\n",
            "\t2.\n",
            "\t3.\n",
            "\t4.\n",
            "\t5.(Votos nuloes)\n",
            "\t6.Votos en blanco\n",
            "Voto:46\n",
            "19. Vota por tu candidato favorito:\n",
            "\t1.\n",
            "\t2.\n",
            "\t3.\n",
            "\t4.\n",
            "\t5.(Votos nuloes)\n",
            "\t6.Votos en blanco\n",
            "Voto:45\n",
            "20. Vota por tu candidato favorito:\n",
            "\t1.\n",
            "\t2.\n",
            "\t3.\n",
            "\t4.\n",
            "\t5.(Votos nuloes)\n",
            "\t6.Votos en blanco\n",
            "Voto:45\n",
            "Candidato 1: 2\n",
            "Candidato 2: 3\n",
            "Candidato 3: 2\n",
            "Candidato 4: 3\n",
            "Candidato 5: 6\n",
            "Candidato 6: 4\n",
            "Porcentaje de votos nulos: 0.3\n",
            "Porcentaje de votos en blanco: 0.2\n"
          ]
        }
      ]
    },
    {
      "cell_type": "markdown",
      "source": [
        "# Estructuras de datos"
      ],
      "metadata": {
        "id": "8noP8OJ0Vhux"
      }
    },
    {
      "cell_type": "markdown",
      "source": [
        "Un conjunto de elementos es una colección de items, que son almacenados juntos de manera organizada. Algunos ejemplos de conjuntos de elementos en Python son las listas, los strings y los diccionarios."
      ],
      "metadata": {
        "id": "xpEUkefTu8fY"
      }
    },
    {
      "cell_type": "markdown",
      "source": [
        "## Listas"
      ],
      "metadata": {
        "id": "THSg4KYLwxIb"
      }
    },
    {
      "cell_type": "markdown",
      "source": [
        "Las listas pueden almacenar una colección de items en orden. Ellas son delimitadas por corchetes `[]` y sus elementos son separados por comas.\n",
        "\n",
        "Estas pueden almacenar cualquier tipo de items, incluyendo números, strings, objetos, otras listas, entre otros. También nos permiten almacenar items de tipos de datos diferentes juntos en una única lista."
      ],
      "metadata": {
        "id": "dzpsiqrOyJcK"
      }
    },
    {
      "cell_type": "code",
      "source": [
        "lista = ['Penélope Camacho',9.5,9.0,9.7,True]\n",
        "lista"
      ],
      "metadata": {
        "id": "DO3TBj7nAYeG",
        "colab": {
          "base_uri": "https://localhost:8080/"
        },
        "outputId": "761e33f5-18f0-4e4c-936f-25d225b20325"
      },
      "execution_count": 1,
      "outputs": [
        {
          "output_type": "execute_result",
          "data": {
            "text/plain": [
              "['Penélope Camacho', 9.5, 9.0, 9.7, True]"
            ]
          },
          "metadata": {},
          "execution_count": 1
        }
      ]
    },
    {
      "cell_type": "code",
      "source": [
        "type(lista)"
      ],
      "metadata": {
        "id": "DO2ubP9N9D_2",
        "colab": {
          "base_uri": "https://localhost:8080/"
        },
        "outputId": "d82e4ba4-670b-4908-9cac-594c8f6e5e29"
      },
      "execution_count": 2,
      "outputs": [
        {
          "output_type": "execute_result",
          "data": {
            "text/plain": [
              "list"
            ]
          },
          "metadata": {},
          "execution_count": 2
        }
      ]
    },
    {
      "cell_type": "markdown",
      "source": [
        "Las listas son organizadas en Python porque **cada elemento de la lista tiene un índice que indica su posición al interior de la lista**. Los índices comienzan en 0 van hasta el tamaño de la lista menos 1."
      ],
      "metadata": {
        "id": "qUz3sJNl6LgK"
      }
    },
    {
      "cell_type": "markdown",
      "source": [
        "Tenemos entonces 5 elementos con índices que varían de 0 a 4, ordenadamente:\n",
        "\n",
        "```\n",
        "#             [0]           [1]   [2]   [3]    [4]\n",
        "lista = ['Penélope Camacho', 9.5 , 9.0 , 9.7 , True]\n",
        "```\n",
        "\n",
        "En Python tenemos también los índices **negativos** que se inician en el último elemento con el valor de `-1` y avanzan en el universo de los negativos hasta llegar al 1° elemento:\n",
        "\n",
        "```\n",
        "#             [-5]         [-4]  [-3]  [-2]   [-1]\n",
        "lista = ['Penélope Camacho', 9.5 , 9.0 , 9.7 , True]\n",
        "```\n",
        "\n",
        "Logramos seleccionar separadamente cada elemento a través de sus respectivos índices. Colocando el nombre de la lista y en seguida el índice que será seleccionado."
      ],
      "metadata": {
        "id": "rLf-Qg526hFD"
      }
    },
    {
      "cell_type": "code",
      "source": [
        "type(lista[-1])"
      ],
      "metadata": {
        "id": "4hco1Zqy88Kw",
        "colab": {
          "base_uri": "https://localhost:8080/"
        },
        "outputId": "aebed538-be59-456e-bcc6-114f03962137"
      },
      "execution_count": 6,
      "outputs": [
        {
          "output_type": "execute_result",
          "data": {
            "text/plain": [
              "bool"
            ]
          },
          "metadata": {},
          "execution_count": 6
        }
      ]
    },
    {
      "cell_type": "code",
      "source": [],
      "metadata": {
        "id": "M8lH0I2288Ph"
      },
      "execution_count": null,
      "outputs": []
    },
    {
      "cell_type": "markdown",
      "source": [
        "Una forma más dinámica de trabajar item a item en una lista es utilizando un lazo `for` para leer un elemento a la vez."
      ],
      "metadata": {
        "id": "6TaE1ijmBTCd"
      }
    },
    {
      "cell_type": "code",
      "source": [
        "for elemento in lista:\n",
        "  print(elemento)"
      ],
      "metadata": {
        "id": "rBx4Yu1786Sy",
        "colab": {
          "base_uri": "https://localhost:8080/"
        },
        "outputId": "ddcde147-9244-4d97-a294-dc3f2327f490"
      },
      "execution_count": 7,
      "outputs": [
        {
          "output_type": "stream",
          "name": "stdout",
          "text": [
            "Penélope Camacho\n",
            "9.5\n",
            "9.0\n",
            "9.7\n",
            "True\n"
          ]
        }
      ]
    },
    {
      "cell_type": "markdown",
      "source": [
        "**Situación**: La nota `9.0` de Penélope necesita ser ajustada pues ganó 1 punto en su última nota por participación en clase. Entonces es necesario realizar un cambio en el índice `2` de `9.0` a `10.0`."
      ],
      "metadata": {
        "id": "Dh1_HnIVvucY"
      }
    },
    {
      "cell_type": "code",
      "source": [
        "lista[2]=10.0\n",
        "print(lista)"
      ],
      "metadata": {
        "id": "bVPoZg668z3T",
        "colab": {
          "base_uri": "https://localhost:8080/"
        },
        "outputId": "242467cc-9902-44a6-e593-74a7bf594ba2"
      },
      "execution_count": 9,
      "outputs": [
        {
          "output_type": "stream",
          "name": "stdout",
          "text": [
            "['Penélope Camacho', 9.5, 10.0, 9.7, True]\n"
          ]
        }
      ]
    },
    {
      "cell_type": "code",
      "source": [
        "promedio=(lista[1]+lista[2]+lista[3])/3\n",
        "promedio\n",
        "lista"
      ],
      "metadata": {
        "id": "Jo_PBQ0g8z7D",
        "colab": {
          "base_uri": "https://localhost:8080/"
        },
        "outputId": "25f67d82-1c3c-4d63-d7d8-5f885044afb0"
      },
      "execution_count": 19,
      "outputs": [
        {
          "output_type": "execute_result",
          "data": {
            "text/plain": [
              "['Penélope Camacho', 9.5, 10.0, 9.7, True]"
            ]
          },
          "metadata": {},
          "execution_count": 19
        }
      ]
    },
    {
      "cell_type": "code",
      "source": [
        "mezclas = ['Pinturas: rojo, azul y amarillo',\n",
        "            'Verde: mezcla de azul y amarillo',\n",
        "            'Naranja: mezcla de rojo y amarillo',\n",
        "            'Morado: mezcla de rojo y azul']\n",
        "unificador = '. '\n",
        "cadena_mezclas = unificador.join(mezclas)\n",
        "print(cadena_mezclas)"
      ],
      "metadata": {
        "colab": {
          "base_uri": "https://localhost:8080/"
        },
        "id": "CzgfubxmzTtr",
        "outputId": "6deb28ef-22ff-4625-f08a-7119cc5c4eb6"
      },
      "execution_count": 20,
      "outputs": [
        {
          "output_type": "stream",
          "name": "stdout",
          "text": [
            "Pinturas: rojo, azul y amarillo. Verde: mezcla de azul y amarillo. Naranja: mezcla de rojo y amarillo. Morado: mezcla de rojo y azul\n"
          ]
        }
      ]
    },
    {
      "cell_type": "code",
      "source": [
        "pregunta = '             ¿Quién              vino primero? ¿El huevo? ¿O fue la serpiente?'\n",
        "lista_palabras = pregunta.split()\n",
        "print(lista_palabras)"
      ],
      "metadata": {
        "colab": {
          "base_uri": "https://localhost:8080/"
        },
        "id": "yJfeiHlfzbzB",
        "outputId": "749d1509-181b-497f-c3fc-0ec8dad0cc73"
      },
      "execution_count": 23,
      "outputs": [
        {
          "output_type": "stream",
          "name": "stdout",
          "text": [
            "['¿Quién', 'vino', 'primero?', '¿El', 'huevo?', '¿O', 'fue', 'la', 'serpiente?']\n"
          ]
        }
      ]
    },
    {
      "cell_type": "markdown",
      "source": [
        "También podemos calcular el promedio del estudiante a partir de los datos que tenemos."
      ],
      "metadata": {
        "id": "53XduzXkycAf"
      }
    },
    {
      "cell_type": "code",
      "source": [
        "pregunta = '¿Quién vino primero?? ¿El huevo? ¿O fue la serpiente?'\n",
        "lista_palabras = pregunta.split('?')\n",
        "print(lista_palabras)"
      ],
      "metadata": {
        "id": "SIH61Rrb8yv4",
        "colab": {
          "base_uri": "https://localhost:8080/"
        },
        "outputId": "0515be8c-bb26-429b-fdeb-fa10604a3073"
      },
      "execution_count": 26,
      "outputs": [
        {
          "output_type": "stream",
          "name": "stdout",
          "text": [
            "['¿Quién vino primero', '', ' ¿El huevo', ' ¿O fue la serpiente', '']\n"
          ]
        }
      ]
    },
    {
      "cell_type": "markdown",
      "source": [
        "## Manipulación de listas\n",
        "\n",
        "Las listas son muy útiles en Python porque nos permiten almacenar y acceder a una colección de items de manera organizada y rápida. Estas también ofrecen muchos métodos útiles para manipular los itens almacenados, como adicionar, remover, clasificar y buscar elementos."
      ],
      "metadata": {
        "id": "d-iYr10-y4qw"
      }
    },
    {
      "cell_type": "markdown",
      "source": [
        "#### Cantidad de elementos\n",
        "\n",
        "Usamos la función [`len()`](https://docs.python.org/3/library/functions.html#len) para descubrir la cantidad de elementos de un conjunto."
      ],
      "metadata": {
        "id": "ZLqx9A97XVB_"
      }
    },
    {
      "cell_type": "code",
      "source": [
        "lista = ['Penélope Camacho',9.5,9.0,9.7,True]"
      ],
      "metadata": {
        "id": "6q1Tmm7P8wQf"
      },
      "execution_count": 27,
      "outputs": []
    },
    {
      "cell_type": "code",
      "source": [],
      "metadata": {
        "id": "Ic6NY08_1Iwa"
      },
      "execution_count": null,
      "outputs": []
    },
    {
      "cell_type": "code",
      "source": [
        "len(lista)\n",
        "print(f'xddd {len(lista)}')"
      ],
      "metadata": {
        "colab": {
          "base_uri": "https://localhost:8080/"
        },
        "id": "PJe8CFWV0W6T",
        "outputId": "751c630a-17e9-416a-b30a-5899ae5c57bf"
      },
      "execution_count": 30,
      "outputs": [
        {
          "output_type": "stream",
          "name": "stdout",
          "text": [
            "xddd 5\n"
          ]
        }
      ]
    },
    {
      "cell_type": "markdown",
      "source": [
        "#### Partición\n",
        "\n",
        "La partición de listas por indexación en Python es una técnica muy útil para seleccionar un subconjunto de elementos de una lista. Esta se realiza usando la sintaxis `lista[inicio:fin]`, donde `inicio` es el índice del primer elemento que será incluído en la partición `fin` es el índice del primer elemento que será excluído de la partición."
      ],
      "metadata": {
        "id": "Z5tpstlHJss3"
      }
    },
    {
      "cell_type": "code",
      "source": [
        "lista[0:2]"
      ],
      "metadata": {
        "id": "NctvJTTU8uV9",
        "colab": {
          "base_uri": "https://localhost:8080/"
        },
        "outputId": "1a6dbf73-e2a3-4b37-9534-43971d3a1a0a"
      },
      "execution_count": 31,
      "outputs": [
        {
          "output_type": "execute_result",
          "data": {
            "text/plain": [
              "['Penélope Camacho', 9.5]"
            ]
          },
          "metadata": {},
          "execution_count": 31
        }
      ]
    },
    {
      "cell_type": "code",
      "source": [
        "lista[:3]"
      ],
      "metadata": {
        "id": "bQZUwldj8uY2",
        "colab": {
          "base_uri": "https://localhost:8080/"
        },
        "outputId": "2e042bdc-79d9-4ae2-eff5-496c54f96ac5"
      },
      "execution_count": 32,
      "outputs": [
        {
          "output_type": "execute_result",
          "data": {
            "text/plain": [
              "['Penélope Camacho', 9.5, 9.0]"
            ]
          },
          "metadata": {},
          "execution_count": 32
        }
      ]
    },
    {
      "cell_type": "code",
      "source": [
        "lista[3:]"
      ],
      "metadata": {
        "colab": {
          "base_uri": "https://localhost:8080/"
        },
        "id": "PEYwncZ4054q",
        "outputId": "c9726f81-ed7b-41ba-90a6-4a97d5e6650e"
      },
      "execution_count": 33,
      "outputs": [
        {
          "output_type": "execute_result",
          "data": {
            "text/plain": [
              "[9.7, True]"
            ]
          },
          "metadata": {},
          "execution_count": 33
        }
      ]
    },
    {
      "cell_type": "code",
      "source": [
        "list[:]"
      ],
      "metadata": {
        "colab": {
          "base_uri": "https://localhost:8080/"
        },
        "id": "_1LHrjox1AXM",
        "outputId": "80a6b802-0cb2-450f-ee60-32cb486c3c45"
      },
      "execution_count": 34,
      "outputs": [
        {
          "output_type": "execute_result",
          "data": {
            "text/plain": [
              "list[slice(None, None, None)]"
            ]
          },
          "metadata": {},
          "execution_count": 34
        }
      ]
    },
    {
      "cell_type": "code",
      "source": [],
      "metadata": {
        "id": "1Iyxw58I1FWP"
      },
      "execution_count": null,
      "outputs": []
    },
    {
      "cell_type": "markdown",
      "source": [
        "#### [`append()`](https://docs.python.org/3/tutorial/datastructures.html#:~:text=of%20list%20objects%3A-,list.append(x),-Add%20an%20item)\n",
        "\n",
        "Añade un elemento al final de la lista."
      ],
      "metadata": {
        "id": "O0RRyabkRzZC"
      }
    },
    {
      "cell_type": "code",
      "source": [
        "lista = ['Penélope Camacho',9.5,9.0,9.7,True]"
      ],
      "metadata": {
        "id": "_Q0oODwa8spC"
      },
      "execution_count": 44,
      "outputs": []
    },
    {
      "cell_type": "code",
      "source": [
        "lista.append(promedio)"
      ],
      "metadata": {
        "id": "RM894r2M8sse"
      },
      "execution_count": 46,
      "outputs": []
    },
    {
      "cell_type": "code",
      "source": [
        "lista"
      ],
      "metadata": {
        "colab": {
          "base_uri": "https://localhost:8080/"
        },
        "id": "YqJ2bdd_1RU2",
        "outputId": "e01bdd51-275a-4c3b-fbf7-946255d8c01f"
      },
      "execution_count": 37,
      "outputs": [
        {
          "output_type": "execute_result",
          "data": {
            "text/plain": [
              "['Penélope Camacho', 9.5, 9.0, 9.7, True, 9.733333333333333]"
            ]
          },
          "metadata": {},
          "execution_count": 37
        }
      ]
    },
    {
      "cell_type": "markdown",
      "source": [
        "#### [`extend()`](https://docs.python.org/3/tutorial/datastructures.html#:~:text=list.extend(iterable))\n",
        "\n",
        "Añade varios elementos al final de la lista.\n",
        "\n",
        "Añadiremos las notas `[10.0,8.0,9.0]` En la lista de Penélope Camacho."
      ],
      "metadata": {
        "id": "uQV91XMsUOJD"
      }
    },
    {
      "cell_type": "code",
      "source": [
        "lista.extend([10,8,9])\n",
        "print(lista)"
      ],
      "metadata": {
        "id": "6Zk2MpMw8rQc",
        "colab": {
          "base_uri": "https://localhost:8080/"
        },
        "outputId": "7d205636-eb67-453a-81fc-64d35c820626"
      },
      "execution_count": 47,
      "outputs": [
        {
          "output_type": "stream",
          "name": "stdout",
          "text": [
            "['Penélope Camacho', 9.5, 9.0, 9.7, True, 10, 8, 9, 9.733333333333333, 10, 8, 9]\n"
          ]
        }
      ]
    },
    {
      "cell_type": "code",
      "source": [],
      "metadata": {
        "id": "NnoKkoWb8rTQ"
      },
      "execution_count": null,
      "outputs": []
    },
    {
      "cell_type": "markdown",
      "source": [
        "*A continuación te mostraremos lo que no puede realizarse con* `append`."
      ],
      "metadata": {
        "id": "IVJvkTwNUk6M"
      }
    },
    {
      "cell_type": "code",
      "source": [],
      "metadata": {
        "id": "u3Eub2ZL8pp3"
      },
      "execution_count": null,
      "outputs": []
    },
    {
      "cell_type": "code",
      "source": [],
      "metadata": {
        "id": "tsKK5Ne58pvN"
      },
      "execution_count": null,
      "outputs": []
    },
    {
      "cell_type": "markdown",
      "source": [
        "#### [`remove()`](https://docs.python.org/3/tutorial/datastructures.html#:~:text=append(x).-,list.remove(x),-Remove%20the%20first)\n",
        "\n",
        "Remueve un elemento específico de la lista."
      ],
      "metadata": {
        "id": "dPGM5gpyUX1z"
      }
    },
    {
      "cell_type": "code",
      "source": [
        "lista.remove(9)\n",
        "print(lista)"
      ],
      "metadata": {
        "id": "mmboODPc8nd5",
        "colab": {
          "base_uri": "https://localhost:8080/"
        },
        "outputId": "f90e2369-da45-4e68-dab8-5a6afab69089"
      },
      "execution_count": 52,
      "outputs": [
        {
          "output_type": "stream",
          "name": "stdout",
          "text": [
            "['Penélope Camacho', 9.5, 9.7, True, 10, 8, 9.733333333333333, 10, 8]\n"
          ]
        }
      ]
    },
    {
      "cell_type": "code",
      "source": [
        "Metodos de lista\n",
        "lista.append()  #Para añadir solo 1 elemento a final\n",
        "lista.extend() #Añadir varios elementos al final.\n",
        "lista.remove() #Eliminar segun valor,solo elimina el 1er valor que encuentra,\n",
        "lista.insert(indicce,Valor)  #Añadir en posiciones especificas\n",
        "lista.pop(indice)  #Eliminar valor por su indice\n",
        "lista.index(valor de lista)  #Devuelve indice de ese elemento\n",
        "lista.sort() #Ordena la lista en orden ascendente"
      ],
      "metadata": {
        "id": "T_w6vVgV8nh_"
      },
      "execution_count": null,
      "outputs": []
    },
    {
      "cell_type": "markdown",
      "source": [
        "## Diccionario"
      ],
      "metadata": {
        "id": "Rc22Vc08YDZ2"
      }
    },
    {
      "cell_type": "markdown",
      "source": [
        "Los diccionarios son un tipo de estructura de datos que almacenan pares de *llave-valor*. Estos son delimitados por llaves `{}` y los pares *llave-valor* son separados por comas.\n",
        "\n",
        "```\n",
        "diccionario = {llave: valor}\n",
        "```\n",
        "\n",
        "La **llave** es un elemento único que identifica a un valor en el diccionario, mientras que el **valor** es el item que será almacenado para la llave. Las llaves y sus respectivos valores se pueden emplear para **cualquier tipo de dato**.\n",
        "\n",
        "Los diccionarios son útiles para almacenar y acceder a los datos de manera organizada y rápida. Se trata de un tipo de conjunto de elementos en Python, pues almacenan una colección de items."
      ],
      "metadata": {
        "id": "PJ-cCKPjeWxL"
      }
    },
    {
      "cell_type": "code",
      "source": [
        "diccionario={'llave_1':1,\n",
        "             'llave_2':2}"
      ],
      "metadata": {
        "id": "NDHhzooE8ld5"
      },
      "execution_count": 53,
      "outputs": []
    },
    {
      "cell_type": "code",
      "source": [
        "diccionario\n",
        "type(diccionario)"
      ],
      "metadata": {
        "id": "AVOzqzy-8lhh",
        "colab": {
          "base_uri": "https://localhost:8080/"
        },
        "outputId": "77141b62-bd7c-47e3-f8e1-bcf0c0c41616"
      },
      "execution_count": 55,
      "outputs": [
        {
          "output_type": "execute_result",
          "data": {
            "text/plain": [
              "dict"
            ]
          },
          "metadata": {},
          "execution_count": 55
        }
      ]
    },
    {
      "cell_type": "markdown",
      "source": [
        "---\n",
        "**Situación:**\n",
        "\n",
        "Vamos a crear un conjunto de datos con las informaciones de matrícula de un estudiante. Los datos son los siguientes:\n",
        "\n",
        "- matrícula: 2000168933\n",
        "- día de registro: 25\n",
        "- mes de registro: 10\n",
        "- grupo: 2E"
      ],
      "metadata": {
        "id": "_JbQ3KMKfkXU"
      }
    },
    {
      "cell_type": "code",
      "source": [
        "Estudiante={\n",
        "    'matricula':2000168933,\n",
        "    'dia_registro':25,\n",
        "    'mes_refistro':10,\n",
        "    'grupo':'2E'\n",
        "}"
      ],
      "metadata": {
        "id": "0lfOu_c38jED"
      },
      "execution_count": 70,
      "outputs": []
    },
    {
      "cell_type": "code",
      "source": [
        "print(Estudiante)"
      ],
      "metadata": {
        "id": "XIuqpTTy8jHV",
        "colab": {
          "base_uri": "https://localhost:8080/"
        },
        "outputId": "a0f0c480-4e72-4659-b1ae-3fbd754ff512"
      },
      "execution_count": 71,
      "outputs": [
        {
          "output_type": "stream",
          "name": "stdout",
          "text": [
            "{'matricula': 2000168933, 'dia_registro': 25, 'mes_refistro': 10, 'grupo': '2E'}\n"
          ]
        }
      ]
    },
    {
      "cell_type": "code",
      "source": [
        "Estudiante['matricula']"
      ],
      "metadata": {
        "colab": {
          "base_uri": "https://localhost:8080/"
        },
        "id": "yPf-6XcB6MVg",
        "outputId": "c6662091-c4da-4173-fb43-b1111889ecf6"
      },
      "execution_count": 72,
      "outputs": [
        {
          "output_type": "execute_result",
          "data": {
            "text/plain": [
              "2000168933"
            ]
          },
          "metadata": {},
          "execution_count": 72
        }
      ]
    },
    {
      "cell_type": "code",
      "source": [
        "Estudiante['grupo']"
      ],
      "metadata": {
        "colab": {
          "base_uri": "https://localhost:8080/",
          "height": 36
        },
        "id": "-zwhioef6U-l",
        "outputId": "638590c7-e29a-4e55-ee78-d81f0985f46a"
      },
      "execution_count": 73,
      "outputs": [
        {
          "output_type": "execute_result",
          "data": {
            "text/plain": [
              "'2E'"
            ],
            "application/vnd.google.colaboratory.intrinsic+json": {
              "type": "string"
            }
          },
          "metadata": {},
          "execution_count": 73
        }
      ]
    },
    {
      "cell_type": "code",
      "source": [
        "Estudiante['grupo']='2G'"
      ],
      "metadata": {
        "id": "UZbJ5z-86a1R"
      },
      "execution_count": 74,
      "outputs": []
    },
    {
      "cell_type": "code",
      "source": [
        "Estudiante"
      ],
      "metadata": {
        "colab": {
          "base_uri": "https://localhost:8080/"
        },
        "id": "u4EHYveq6hmU",
        "outputId": "5326f431-78eb-4bfd-a44b-3b23889a16ce"
      },
      "execution_count": 75,
      "outputs": [
        {
          "output_type": "execute_result",
          "data": {
            "text/plain": [
              "{'matricula': 2000168933,\n",
              " 'dia_registro': 25,\n",
              " 'mes_refistro': 10,\n",
              " 'grupo': '2G'}"
            ]
          },
          "metadata": {},
          "execution_count": 75
        }
      ]
    },
    {
      "cell_type": "code",
      "source": [
        "print(Estudiante)"
      ],
      "metadata": {
        "colab": {
          "base_uri": "https://localhost:8080/"
        },
        "id": "mKH07oba6qUL",
        "outputId": "d289b219-3ca2-4ca0-e47a-f11031003b1e"
      },
      "execution_count": 76,
      "outputs": [
        {
          "output_type": "stream",
          "name": "stdout",
          "text": [
            "{'matricula': 2000168933, 'dia_registro': 25, 'mes_refistro': 10, 'grupo': '2G'}\n"
          ]
        }
      ]
    },
    {
      "cell_type": "code",
      "source": [
        "Estudiante['modalidad']='EAD'"
      ],
      "metadata": {
        "id": "wRu9NlKP6vY8"
      },
      "execution_count": 77,
      "outputs": []
    },
    {
      "cell_type": "code",
      "source": [
        "Estudiante"
      ],
      "metadata": {
        "colab": {
          "base_uri": "https://localhost:8080/"
        },
        "id": "UBxzFQgn63d1",
        "outputId": "d9ea4e38-e4c8-42c1-f9a4-e799278858dd"
      },
      "execution_count": 78,
      "outputs": [
        {
          "output_type": "execute_result",
          "data": {
            "text/plain": [
              "{'matricula': 2000168933,\n",
              " 'dia_registro': 25,\n",
              " 'mes_refistro': 10,\n",
              " 'grupo': '2G',\n",
              " 'modalidad': 'EAD'}"
            ]
          },
          "metadata": {},
          "execution_count": 78
        }
      ]
    },
    {
      "cell_type": "code",
      "source": [
        "len(Estudiante)"
      ],
      "metadata": {
        "colab": {
          "base_uri": "https://localhost:8080/"
        },
        "id": "O72rH8jB69A1",
        "outputId": "60b52298-2fc5-4e91-be46-b886bdeb81c8"
      },
      "execution_count": 80,
      "outputs": [
        {
          "output_type": "execute_result",
          "data": {
            "text/plain": [
              "5"
            ]
          },
          "metadata": {},
          "execution_count": 80
        }
      ]
    },
    {
      "cell_type": "markdown",
      "source": [
        "Es posible sustituir los valores dentro de una llave. Por ejemplo, recibimos la información de que el grupo del estudiante que registramos cambio a `'2G'` y ahora necesitamos cambiar el valor de la llave `'grupo'`."
      ],
      "metadata": {
        "id": "8ex5pt2ykDd2"
      }
    },
    {
      "cell_type": "code",
      "source": [],
      "metadata": {
        "id": "kQGlp36b8fyP"
      },
      "execution_count": null,
      "outputs": []
    },
    {
      "cell_type": "code",
      "source": [],
      "metadata": {
        "id": "DnfH_qHi8f17"
      },
      "execution_count": null,
      "outputs": []
    },
    {
      "cell_type": "markdown",
      "source": [
        "También podemos añadir otros datos al diccionario. Vamos a añadir la información sobre la modalidad de estudio, nuestro estudiante estudiará inicialemente en la modalidad EAD.\n",
        "\n",
        "Definiremos una llave llamada `'modalidad'` con el valor `'EAD'`."
      ],
      "metadata": {
        "id": "wB0qRb56mQvv"
      }
    },
    {
      "cell_type": "code",
      "source": [],
      "metadata": {
        "id": "EeLYdlIm8d8a"
      },
      "execution_count": null,
      "outputs": []
    },
    {
      "cell_type": "code",
      "source": [],
      "metadata": {
        "id": "olDIavsm8d_o"
      },
      "execution_count": null,
      "outputs": []
    },
    {
      "cell_type": "markdown",
      "source": [
        "## Profundizando en diccionarios"
      ],
      "metadata": {
        "id": "LJ3o_inroxg_"
      }
    },
    {
      "cell_type": "markdown",
      "source": [
        "#### [`pop()`](https://python-reference.readthedocs.io/en/latest/docs/dict/pop.html)\n",
        "Remueve un item de un diccionario y lo representa en la salida."
      ],
      "metadata": {
        "id": "2N3GLlkSpBiu"
      }
    },
    {
      "cell_type": "code",
      "source": [],
      "metadata": {
        "id": "ZsSCZx6G8b-T"
      },
      "execution_count": null,
      "outputs": []
    },
    {
      "cell_type": "code",
      "source": [],
      "metadata": {
        "id": "7lQ8_jpi8cBR"
      },
      "execution_count": null,
      "outputs": []
    },
    {
      "cell_type": "markdown",
      "source": [
        "#### [`items()`](https://python-reference.readthedocs.io/en/latest/docs/dict/items.html)\n",
        "Retorna una lista de pares `llave-valor` del diccionario."
      ],
      "metadata": {
        "id": "sYZGvJJYrW_y"
      }
    },
    {
      "cell_type": "code",
      "source": [],
      "metadata": {
        "id": "ncdycLV08an7"
      },
      "execution_count": null,
      "outputs": []
    },
    {
      "cell_type": "markdown",
      "source": [
        "#### [`keys()`](https://python-reference.readthedocs.io/en/latest/docs/dict/keys.html)\n",
        "Retorna una lista de las llaves del diccionario."
      ],
      "metadata": {
        "id": "Lb0utNFGrZBY"
      }
    },
    {
      "cell_type": "code",
      "source": [],
      "metadata": {
        "id": "eZo0biaM8ZVs"
      },
      "execution_count": null,
      "outputs": []
    },
    {
      "cell_type": "markdown",
      "source": [
        "#### [`values()`](https://python-reference.readthedocs.io/en/latest/docs/dict/values.html)\n",
        "Retorna una lista de los valores del diccionario."
      ],
      "metadata": {
        "id": "qKyu3bf9rbtX"
      }
    },
    {
      "cell_type": "code",
      "source": [],
      "metadata": {
        "id": "-NxRT9C18Yvo"
      },
      "execution_count": null,
      "outputs": []
    },
    {
      "cell_type": "markdown",
      "source": [
        "### Lectura de valores con el lazo `for`"
      ],
      "metadata": {
        "id": "e3XVjR8Frp75"
      }
    },
    {
      "cell_type": "code",
      "source": [],
      "metadata": {
        "id": "NYcjU-Ip8Xan"
      },
      "execution_count": null,
      "outputs": []
    },
    {
      "cell_type": "code",
      "source": [],
      "metadata": {
        "id": "aAnpP1Wv8XfJ"
      },
      "execution_count": null,
      "outputs": []
    }
  ]
}